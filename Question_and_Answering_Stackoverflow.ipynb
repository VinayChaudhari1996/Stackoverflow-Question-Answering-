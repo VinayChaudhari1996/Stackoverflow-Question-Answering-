{
  "nbformat": 4,
  "nbformat_minor": 0,
  "metadata": {
    "colab": {
      "name": "Question and Answering- Stackoverflow.ipynb",
      "provenance": [],
      "collapsed_sections": [
        "hUd5LhChNtM8"
      ],
      "toc_visible": true
    },
    "kernelspec": {
      "name": "python3",
      "display_name": "Python 3"
    },
    "language_info": {
      "name": "python"
    },
    "accelerator": "GPU",
    "widgets": {
      "application/vnd.jupyter.widget-state+json": {
        "4807e0393ade4c3a8743458b76660664": {
          "model_module": "@jupyter-widgets/controls",
          "model_name": "HBoxModel",
          "model_module_version": "1.5.0",
          "state": {
            "_view_name": "HBoxView",
            "_dom_classes": [],
            "_model_name": "HBoxModel",
            "_view_module": "@jupyter-widgets/controls",
            "_model_module_version": "1.5.0",
            "_view_count": null,
            "_view_module_version": "1.5.0",
            "box_style": "",
            "layout": "IPY_MODEL_b637028611ae43b292119e20b2b2354e",
            "_model_module": "@jupyter-widgets/controls",
            "children": [
              "IPY_MODEL_50fa51c40911423abc14c2cf03267a68",
              "IPY_MODEL_b27ce27be17d428eb33b3f549b29e2fd",
              "IPY_MODEL_e58c54a311874343a19426a7f02a2307"
            ]
          }
        },
        "b637028611ae43b292119e20b2b2354e": {
          "model_module": "@jupyter-widgets/base",
          "model_name": "LayoutModel",
          "model_module_version": "1.2.0",
          "state": {
            "_view_name": "LayoutView",
            "grid_template_rows": null,
            "right": null,
            "justify_content": null,
            "_view_module": "@jupyter-widgets/base",
            "overflow": null,
            "_model_module_version": "1.2.0",
            "_view_count": null,
            "flex_flow": null,
            "width": null,
            "min_width": null,
            "border": null,
            "align_items": null,
            "bottom": null,
            "_model_module": "@jupyter-widgets/base",
            "top": null,
            "grid_column": null,
            "overflow_y": null,
            "overflow_x": null,
            "grid_auto_flow": null,
            "grid_area": null,
            "grid_template_columns": null,
            "flex": null,
            "_model_name": "LayoutModel",
            "justify_items": null,
            "grid_row": null,
            "max_height": null,
            "align_content": null,
            "visibility": null,
            "align_self": null,
            "height": null,
            "min_height": null,
            "padding": null,
            "grid_auto_rows": null,
            "grid_gap": null,
            "max_width": null,
            "order": null,
            "_view_module_version": "1.2.0",
            "grid_template_areas": null,
            "object_position": null,
            "object_fit": null,
            "grid_auto_columns": null,
            "margin": null,
            "display": null,
            "left": null
          }
        },
        "50fa51c40911423abc14c2cf03267a68": {
          "model_module": "@jupyter-widgets/controls",
          "model_name": "HTMLModel",
          "model_module_version": "1.5.0",
          "state": {
            "_view_name": "HTMLView",
            "style": "IPY_MODEL_28d2b635224f46ed8acfa3a0abf36fd5",
            "_dom_classes": [],
            "description": "",
            "_model_name": "HTMLModel",
            "placeholder": "​",
            "_view_module": "@jupyter-widgets/controls",
            "_model_module_version": "1.5.0",
            "value": "Downloading: 100%",
            "_view_count": null,
            "_view_module_version": "1.5.0",
            "description_tooltip": null,
            "_model_module": "@jupyter-widgets/controls",
            "layout": "IPY_MODEL_503725f0a86c4c039028ee871a215235"
          }
        },
        "b27ce27be17d428eb33b3f549b29e2fd": {
          "model_module": "@jupyter-widgets/controls",
          "model_name": "FloatProgressModel",
          "model_module_version": "1.5.0",
          "state": {
            "_view_name": "ProgressView",
            "style": "IPY_MODEL_913947cdbba5439f87312a5e4ee7f841",
            "_dom_classes": [],
            "description": "",
            "_model_name": "FloatProgressModel",
            "bar_style": "success",
            "max": 612,
            "_view_module": "@jupyter-widgets/controls",
            "_model_module_version": "1.5.0",
            "value": 612,
            "_view_count": null,
            "_view_module_version": "1.5.0",
            "orientation": "horizontal",
            "min": 0,
            "description_tooltip": null,
            "_model_module": "@jupyter-widgets/controls",
            "layout": "IPY_MODEL_f4ba5be74d614144b2dcfdf6877c7418"
          }
        },
        "e58c54a311874343a19426a7f02a2307": {
          "model_module": "@jupyter-widgets/controls",
          "model_name": "HTMLModel",
          "model_module_version": "1.5.0",
          "state": {
            "_view_name": "HTMLView",
            "style": "IPY_MODEL_7f6673452ada426392f0171b808c13df",
            "_dom_classes": [],
            "description": "",
            "_model_name": "HTMLModel",
            "placeholder": "​",
            "_view_module": "@jupyter-widgets/controls",
            "_model_module_version": "1.5.0",
            "value": " 612/612 [00:00&lt;00:00, 10.8kB/s]",
            "_view_count": null,
            "_view_module_version": "1.5.0",
            "description_tooltip": null,
            "_model_module": "@jupyter-widgets/controls",
            "layout": "IPY_MODEL_6ae2c8a6b5964f2ba00aad4d00270fc5"
          }
        },
        "28d2b635224f46ed8acfa3a0abf36fd5": {
          "model_module": "@jupyter-widgets/controls",
          "model_name": "DescriptionStyleModel",
          "model_module_version": "1.5.0",
          "state": {
            "_view_name": "StyleView",
            "_model_name": "DescriptionStyleModel",
            "description_width": "",
            "_view_module": "@jupyter-widgets/base",
            "_model_module_version": "1.5.0",
            "_view_count": null,
            "_view_module_version": "1.2.0",
            "_model_module": "@jupyter-widgets/controls"
          }
        },
        "503725f0a86c4c039028ee871a215235": {
          "model_module": "@jupyter-widgets/base",
          "model_name": "LayoutModel",
          "model_module_version": "1.2.0",
          "state": {
            "_view_name": "LayoutView",
            "grid_template_rows": null,
            "right": null,
            "justify_content": null,
            "_view_module": "@jupyter-widgets/base",
            "overflow": null,
            "_model_module_version": "1.2.0",
            "_view_count": null,
            "flex_flow": null,
            "width": null,
            "min_width": null,
            "border": null,
            "align_items": null,
            "bottom": null,
            "_model_module": "@jupyter-widgets/base",
            "top": null,
            "grid_column": null,
            "overflow_y": null,
            "overflow_x": null,
            "grid_auto_flow": null,
            "grid_area": null,
            "grid_template_columns": null,
            "flex": null,
            "_model_name": "LayoutModel",
            "justify_items": null,
            "grid_row": null,
            "max_height": null,
            "align_content": null,
            "visibility": null,
            "align_self": null,
            "height": null,
            "min_height": null,
            "padding": null,
            "grid_auto_rows": null,
            "grid_gap": null,
            "max_width": null,
            "order": null,
            "_view_module_version": "1.2.0",
            "grid_template_areas": null,
            "object_position": null,
            "object_fit": null,
            "grid_auto_columns": null,
            "margin": null,
            "display": null,
            "left": null
          }
        },
        "913947cdbba5439f87312a5e4ee7f841": {
          "model_module": "@jupyter-widgets/controls",
          "model_name": "ProgressStyleModel",
          "model_module_version": "1.5.0",
          "state": {
            "_view_name": "StyleView",
            "_model_name": "ProgressStyleModel",
            "description_width": "",
            "_view_module": "@jupyter-widgets/base",
            "_model_module_version": "1.5.0",
            "_view_count": null,
            "_view_module_version": "1.2.0",
            "bar_color": null,
            "_model_module": "@jupyter-widgets/controls"
          }
        },
        "f4ba5be74d614144b2dcfdf6877c7418": {
          "model_module": "@jupyter-widgets/base",
          "model_name": "LayoutModel",
          "model_module_version": "1.2.0",
          "state": {
            "_view_name": "LayoutView",
            "grid_template_rows": null,
            "right": null,
            "justify_content": null,
            "_view_module": "@jupyter-widgets/base",
            "overflow": null,
            "_model_module_version": "1.2.0",
            "_view_count": null,
            "flex_flow": null,
            "width": null,
            "min_width": null,
            "border": null,
            "align_items": null,
            "bottom": null,
            "_model_module": "@jupyter-widgets/base",
            "top": null,
            "grid_column": null,
            "overflow_y": null,
            "overflow_x": null,
            "grid_auto_flow": null,
            "grid_area": null,
            "grid_template_columns": null,
            "flex": null,
            "_model_name": "LayoutModel",
            "justify_items": null,
            "grid_row": null,
            "max_height": null,
            "align_content": null,
            "visibility": null,
            "align_self": null,
            "height": null,
            "min_height": null,
            "padding": null,
            "grid_auto_rows": null,
            "grid_gap": null,
            "max_width": null,
            "order": null,
            "_view_module_version": "1.2.0",
            "grid_template_areas": null,
            "object_position": null,
            "object_fit": null,
            "grid_auto_columns": null,
            "margin": null,
            "display": null,
            "left": null
          }
        },
        "7f6673452ada426392f0171b808c13df": {
          "model_module": "@jupyter-widgets/controls",
          "model_name": "DescriptionStyleModel",
          "model_module_version": "1.5.0",
          "state": {
            "_view_name": "StyleView",
            "_model_name": "DescriptionStyleModel",
            "description_width": "",
            "_view_module": "@jupyter-widgets/base",
            "_model_module_version": "1.5.0",
            "_view_count": null,
            "_view_module_version": "1.2.0",
            "_model_module": "@jupyter-widgets/controls"
          }
        },
        "6ae2c8a6b5964f2ba00aad4d00270fc5": {
          "model_module": "@jupyter-widgets/base",
          "model_name": "LayoutModel",
          "model_module_version": "1.2.0",
          "state": {
            "_view_name": "LayoutView",
            "grid_template_rows": null,
            "right": null,
            "justify_content": null,
            "_view_module": "@jupyter-widgets/base",
            "overflow": null,
            "_model_module_version": "1.2.0",
            "_view_count": null,
            "flex_flow": null,
            "width": null,
            "min_width": null,
            "border": null,
            "align_items": null,
            "bottom": null,
            "_model_module": "@jupyter-widgets/base",
            "top": null,
            "grid_column": null,
            "overflow_y": null,
            "overflow_x": null,
            "grid_auto_flow": null,
            "grid_area": null,
            "grid_template_columns": null,
            "flex": null,
            "_model_name": "LayoutModel",
            "justify_items": null,
            "grid_row": null,
            "max_height": null,
            "align_content": null,
            "visibility": null,
            "align_self": null,
            "height": null,
            "min_height": null,
            "padding": null,
            "grid_auto_rows": null,
            "grid_gap": null,
            "max_width": null,
            "order": null,
            "_view_module_version": "1.2.0",
            "grid_template_areas": null,
            "object_position": null,
            "object_fit": null,
            "grid_auto_columns": null,
            "margin": null,
            "display": null,
            "left": null
          }
        },
        "c7c1e198db2345e4abff0db3a2f5624e": {
          "model_module": "@jupyter-widgets/controls",
          "model_name": "HBoxModel",
          "model_module_version": "1.5.0",
          "state": {
            "_view_name": "HBoxView",
            "_dom_classes": [],
            "_model_name": "HBoxModel",
            "_view_module": "@jupyter-widgets/controls",
            "_model_module_version": "1.5.0",
            "_view_count": null,
            "_view_module_version": "1.5.0",
            "box_style": "",
            "layout": "IPY_MODEL_18f034fb7d874d56b6a9fab65a27b035",
            "_model_module": "@jupyter-widgets/controls",
            "children": [
              "IPY_MODEL_1892fee35496477fbda14642240de77c",
              "IPY_MODEL_838384278ac84b8aa26376a6d83aca67",
              "IPY_MODEL_ea162e9317ff490c9924314bab3c2cf1"
            ]
          }
        },
        "18f034fb7d874d56b6a9fab65a27b035": {
          "model_module": "@jupyter-widgets/base",
          "model_name": "LayoutModel",
          "model_module_version": "1.2.0",
          "state": {
            "_view_name": "LayoutView",
            "grid_template_rows": null,
            "right": null,
            "justify_content": null,
            "_view_module": "@jupyter-widgets/base",
            "overflow": null,
            "_model_module_version": "1.2.0",
            "_view_count": null,
            "flex_flow": null,
            "width": null,
            "min_width": null,
            "border": null,
            "align_items": null,
            "bottom": null,
            "_model_module": "@jupyter-widgets/base",
            "top": null,
            "grid_column": null,
            "overflow_y": null,
            "overflow_x": null,
            "grid_auto_flow": null,
            "grid_area": null,
            "grid_template_columns": null,
            "flex": null,
            "_model_name": "LayoutModel",
            "justify_items": null,
            "grid_row": null,
            "max_height": null,
            "align_content": null,
            "visibility": null,
            "align_self": null,
            "height": null,
            "min_height": null,
            "padding": null,
            "grid_auto_rows": null,
            "grid_gap": null,
            "max_width": null,
            "order": null,
            "_view_module_version": "1.2.0",
            "grid_template_areas": null,
            "object_position": null,
            "object_fit": null,
            "grid_auto_columns": null,
            "margin": null,
            "display": null,
            "left": null
          }
        },
        "1892fee35496477fbda14642240de77c": {
          "model_module": "@jupyter-widgets/controls",
          "model_name": "HTMLModel",
          "model_module_version": "1.5.0",
          "state": {
            "_view_name": "HTMLView",
            "style": "IPY_MODEL_bf9dbe75ee7242409b5938d82ee1b2b0",
            "_dom_classes": [],
            "description": "",
            "_model_name": "HTMLModel",
            "placeholder": "​",
            "_view_module": "@jupyter-widgets/controls",
            "_model_module_version": "1.5.0",
            "value": "Downloading: 100%",
            "_view_count": null,
            "_view_module_version": "1.5.0",
            "description_tooltip": null,
            "_model_module": "@jupyter-widgets/controls",
            "layout": "IPY_MODEL_77ca90c4cabd446688693fbb3bf54f10"
          }
        },
        "838384278ac84b8aa26376a6d83aca67": {
          "model_module": "@jupyter-widgets/controls",
          "model_name": "FloatProgressModel",
          "model_module_version": "1.5.0",
          "state": {
            "_view_name": "ProgressView",
            "style": "IPY_MODEL_7f7e2d6de106435da74964f929b1f941",
            "_dom_classes": [],
            "description": "",
            "_model_name": "FloatProgressModel",
            "bar_style": "success",
            "max": 90888945,
            "_view_module": "@jupyter-widgets/controls",
            "_model_module_version": "1.5.0",
            "value": 90888945,
            "_view_count": null,
            "_view_module_version": "1.5.0",
            "orientation": "horizontal",
            "min": 0,
            "description_tooltip": null,
            "_model_module": "@jupyter-widgets/controls",
            "layout": "IPY_MODEL_0bd2fe90ea8343399f56dbfc63929a04"
          }
        },
        "ea162e9317ff490c9924314bab3c2cf1": {
          "model_module": "@jupyter-widgets/controls",
          "model_name": "HTMLModel",
          "model_module_version": "1.5.0",
          "state": {
            "_view_name": "HTMLView",
            "style": "IPY_MODEL_aa9165a51e4b43028e3c8e3c29c4ecb1",
            "_dom_classes": [],
            "description": "",
            "_model_name": "HTMLModel",
            "placeholder": "​",
            "_view_module": "@jupyter-widgets/controls",
            "_model_module_version": "1.5.0",
            "value": " 90.9M/90.9M [00:03&lt;00:00, 24.7MB/s]",
            "_view_count": null,
            "_view_module_version": "1.5.0",
            "description_tooltip": null,
            "_model_module": "@jupyter-widgets/controls",
            "layout": "IPY_MODEL_baea0a9079e748649121e408275f6bb5"
          }
        },
        "bf9dbe75ee7242409b5938d82ee1b2b0": {
          "model_module": "@jupyter-widgets/controls",
          "model_name": "DescriptionStyleModel",
          "model_module_version": "1.5.0",
          "state": {
            "_view_name": "StyleView",
            "_model_name": "DescriptionStyleModel",
            "description_width": "",
            "_view_module": "@jupyter-widgets/base",
            "_model_module_version": "1.5.0",
            "_view_count": null,
            "_view_module_version": "1.2.0",
            "_model_module": "@jupyter-widgets/controls"
          }
        },
        "77ca90c4cabd446688693fbb3bf54f10": {
          "model_module": "@jupyter-widgets/base",
          "model_name": "LayoutModel",
          "model_module_version": "1.2.0",
          "state": {
            "_view_name": "LayoutView",
            "grid_template_rows": null,
            "right": null,
            "justify_content": null,
            "_view_module": "@jupyter-widgets/base",
            "overflow": null,
            "_model_module_version": "1.2.0",
            "_view_count": null,
            "flex_flow": null,
            "width": null,
            "min_width": null,
            "border": null,
            "align_items": null,
            "bottom": null,
            "_model_module": "@jupyter-widgets/base",
            "top": null,
            "grid_column": null,
            "overflow_y": null,
            "overflow_x": null,
            "grid_auto_flow": null,
            "grid_area": null,
            "grid_template_columns": null,
            "flex": null,
            "_model_name": "LayoutModel",
            "justify_items": null,
            "grid_row": null,
            "max_height": null,
            "align_content": null,
            "visibility": null,
            "align_self": null,
            "height": null,
            "min_height": null,
            "padding": null,
            "grid_auto_rows": null,
            "grid_gap": null,
            "max_width": null,
            "order": null,
            "_view_module_version": "1.2.0",
            "grid_template_areas": null,
            "object_position": null,
            "object_fit": null,
            "grid_auto_columns": null,
            "margin": null,
            "display": null,
            "left": null
          }
        },
        "7f7e2d6de106435da74964f929b1f941": {
          "model_module": "@jupyter-widgets/controls",
          "model_name": "ProgressStyleModel",
          "model_module_version": "1.5.0",
          "state": {
            "_view_name": "StyleView",
            "_model_name": "ProgressStyleModel",
            "description_width": "",
            "_view_module": "@jupyter-widgets/base",
            "_model_module_version": "1.5.0",
            "_view_count": null,
            "_view_module_version": "1.2.0",
            "bar_color": null,
            "_model_module": "@jupyter-widgets/controls"
          }
        },
        "0bd2fe90ea8343399f56dbfc63929a04": {
          "model_module": "@jupyter-widgets/base",
          "model_name": "LayoutModel",
          "model_module_version": "1.2.0",
          "state": {
            "_view_name": "LayoutView",
            "grid_template_rows": null,
            "right": null,
            "justify_content": null,
            "_view_module": "@jupyter-widgets/base",
            "overflow": null,
            "_model_module_version": "1.2.0",
            "_view_count": null,
            "flex_flow": null,
            "width": null,
            "min_width": null,
            "border": null,
            "align_items": null,
            "bottom": null,
            "_model_module": "@jupyter-widgets/base",
            "top": null,
            "grid_column": null,
            "overflow_y": null,
            "overflow_x": null,
            "grid_auto_flow": null,
            "grid_area": null,
            "grid_template_columns": null,
            "flex": null,
            "_model_name": "LayoutModel",
            "justify_items": null,
            "grid_row": null,
            "max_height": null,
            "align_content": null,
            "visibility": null,
            "align_self": null,
            "height": null,
            "min_height": null,
            "padding": null,
            "grid_auto_rows": null,
            "grid_gap": null,
            "max_width": null,
            "order": null,
            "_view_module_version": "1.2.0",
            "grid_template_areas": null,
            "object_position": null,
            "object_fit": null,
            "grid_auto_columns": null,
            "margin": null,
            "display": null,
            "left": null
          }
        },
        "aa9165a51e4b43028e3c8e3c29c4ecb1": {
          "model_module": "@jupyter-widgets/controls",
          "model_name": "DescriptionStyleModel",
          "model_module_version": "1.5.0",
          "state": {
            "_view_name": "StyleView",
            "_model_name": "DescriptionStyleModel",
            "description_width": "",
            "_view_module": "@jupyter-widgets/base",
            "_model_module_version": "1.5.0",
            "_view_count": null,
            "_view_module_version": "1.2.0",
            "_model_module": "@jupyter-widgets/controls"
          }
        },
        "baea0a9079e748649121e408275f6bb5": {
          "model_module": "@jupyter-widgets/base",
          "model_name": "LayoutModel",
          "model_module_version": "1.2.0",
          "state": {
            "_view_name": "LayoutView",
            "grid_template_rows": null,
            "right": null,
            "justify_content": null,
            "_view_module": "@jupyter-widgets/base",
            "overflow": null,
            "_model_module_version": "1.2.0",
            "_view_count": null,
            "flex_flow": null,
            "width": null,
            "min_width": null,
            "border": null,
            "align_items": null,
            "bottom": null,
            "_model_module": "@jupyter-widgets/base",
            "top": null,
            "grid_column": null,
            "overflow_y": null,
            "overflow_x": null,
            "grid_auto_flow": null,
            "grid_area": null,
            "grid_template_columns": null,
            "flex": null,
            "_model_name": "LayoutModel",
            "justify_items": null,
            "grid_row": null,
            "max_height": null,
            "align_content": null,
            "visibility": null,
            "align_self": null,
            "height": null,
            "min_height": null,
            "padding": null,
            "grid_auto_rows": null,
            "grid_gap": null,
            "max_width": null,
            "order": null,
            "_view_module_version": "1.2.0",
            "grid_template_areas": null,
            "object_position": null,
            "object_fit": null,
            "grid_auto_columns": null,
            "margin": null,
            "display": null,
            "left": null
          }
        },
        "33bd5f135669405fac50cea900322b7a": {
          "model_module": "@jupyter-widgets/controls",
          "model_name": "HBoxModel",
          "model_module_version": "1.5.0",
          "state": {
            "_view_name": "HBoxView",
            "_dom_classes": [],
            "_model_name": "HBoxModel",
            "_view_module": "@jupyter-widgets/controls",
            "_model_module_version": "1.5.0",
            "_view_count": null,
            "_view_module_version": "1.5.0",
            "box_style": "",
            "layout": "IPY_MODEL_4c47cfabd1b244868da44d9057ac456f",
            "_model_module": "@jupyter-widgets/controls",
            "children": [
              "IPY_MODEL_2ab74b271cf14b50b3ce1f7f8fdb9924",
              "IPY_MODEL_8b985b461ff7417aaf591a933ae9251a",
              "IPY_MODEL_c436857d3455464985a443709c44ebad"
            ]
          }
        },
        "4c47cfabd1b244868da44d9057ac456f": {
          "model_module": "@jupyter-widgets/base",
          "model_name": "LayoutModel",
          "model_module_version": "1.2.0",
          "state": {
            "_view_name": "LayoutView",
            "grid_template_rows": null,
            "right": null,
            "justify_content": null,
            "_view_module": "@jupyter-widgets/base",
            "overflow": null,
            "_model_module_version": "1.2.0",
            "_view_count": null,
            "flex_flow": null,
            "width": null,
            "min_width": null,
            "border": null,
            "align_items": null,
            "bottom": null,
            "_model_module": "@jupyter-widgets/base",
            "top": null,
            "grid_column": null,
            "overflow_y": null,
            "overflow_x": null,
            "grid_auto_flow": null,
            "grid_area": null,
            "grid_template_columns": null,
            "flex": null,
            "_model_name": "LayoutModel",
            "justify_items": null,
            "grid_row": null,
            "max_height": null,
            "align_content": null,
            "visibility": null,
            "align_self": null,
            "height": null,
            "min_height": null,
            "padding": null,
            "grid_auto_rows": null,
            "grid_gap": null,
            "max_width": null,
            "order": null,
            "_view_module_version": "1.2.0",
            "grid_template_areas": null,
            "object_position": null,
            "object_fit": null,
            "grid_auto_columns": null,
            "margin": null,
            "display": null,
            "left": null
          }
        },
        "2ab74b271cf14b50b3ce1f7f8fdb9924": {
          "model_module": "@jupyter-widgets/controls",
          "model_name": "HTMLModel",
          "model_module_version": "1.5.0",
          "state": {
            "_view_name": "HTMLView",
            "style": "IPY_MODEL_f1ab77dc10dc4a3e89d390abad622e08",
            "_dom_classes": [],
            "description": "",
            "_model_name": "HTMLModel",
            "placeholder": "​",
            "_view_module": "@jupyter-widgets/controls",
            "_model_module_version": "1.5.0",
            "value": "Downloading: 100%",
            "_view_count": null,
            "_view_module_version": "1.5.0",
            "description_tooltip": null,
            "_model_module": "@jupyter-widgets/controls",
            "layout": "IPY_MODEL_e6b97d68dbe54a4e86d07592c0f5bfca"
          }
        },
        "8b985b461ff7417aaf591a933ae9251a": {
          "model_module": "@jupyter-widgets/controls",
          "model_name": "FloatProgressModel",
          "model_module_version": "1.5.0",
          "state": {
            "_view_name": "ProgressView",
            "style": "IPY_MODEL_4c3f6395de914ea1b54b0663fab9da24",
            "_dom_classes": [],
            "description": "",
            "_model_name": "FloatProgressModel",
            "bar_style": "success",
            "max": 231508,
            "_view_module": "@jupyter-widgets/controls",
            "_model_module_version": "1.5.0",
            "value": 231508,
            "_view_count": null,
            "_view_module_version": "1.5.0",
            "orientation": "horizontal",
            "min": 0,
            "description_tooltip": null,
            "_model_module": "@jupyter-widgets/controls",
            "layout": "IPY_MODEL_81b842fd892647af8f999a8a1b0e5a52"
          }
        },
        "c436857d3455464985a443709c44ebad": {
          "model_module": "@jupyter-widgets/controls",
          "model_name": "HTMLModel",
          "model_module_version": "1.5.0",
          "state": {
            "_view_name": "HTMLView",
            "style": "IPY_MODEL_ce2eab4aec5f4bd79dd6bdb35d32c704",
            "_dom_classes": [],
            "description": "",
            "_model_name": "HTMLModel",
            "placeholder": "​",
            "_view_module": "@jupyter-widgets/controls",
            "_model_module_version": "1.5.0",
            "value": " 232k/232k [00:00&lt;00:00, 328kB/s]",
            "_view_count": null,
            "_view_module_version": "1.5.0",
            "description_tooltip": null,
            "_model_module": "@jupyter-widgets/controls",
            "layout": "IPY_MODEL_41e43ac6fedb41ab862ec1b0b5c1764d"
          }
        },
        "f1ab77dc10dc4a3e89d390abad622e08": {
          "model_module": "@jupyter-widgets/controls",
          "model_name": "DescriptionStyleModel",
          "model_module_version": "1.5.0",
          "state": {
            "_view_name": "StyleView",
            "_model_name": "DescriptionStyleModel",
            "description_width": "",
            "_view_module": "@jupyter-widgets/base",
            "_model_module_version": "1.5.0",
            "_view_count": null,
            "_view_module_version": "1.2.0",
            "_model_module": "@jupyter-widgets/controls"
          }
        },
        "e6b97d68dbe54a4e86d07592c0f5bfca": {
          "model_module": "@jupyter-widgets/base",
          "model_name": "LayoutModel",
          "model_module_version": "1.2.0",
          "state": {
            "_view_name": "LayoutView",
            "grid_template_rows": null,
            "right": null,
            "justify_content": null,
            "_view_module": "@jupyter-widgets/base",
            "overflow": null,
            "_model_module_version": "1.2.0",
            "_view_count": null,
            "flex_flow": null,
            "width": null,
            "min_width": null,
            "border": null,
            "align_items": null,
            "bottom": null,
            "_model_module": "@jupyter-widgets/base",
            "top": null,
            "grid_column": null,
            "overflow_y": null,
            "overflow_x": null,
            "grid_auto_flow": null,
            "grid_area": null,
            "grid_template_columns": null,
            "flex": null,
            "_model_name": "LayoutModel",
            "justify_items": null,
            "grid_row": null,
            "max_height": null,
            "align_content": null,
            "visibility": null,
            "align_self": null,
            "height": null,
            "min_height": null,
            "padding": null,
            "grid_auto_rows": null,
            "grid_gap": null,
            "max_width": null,
            "order": null,
            "_view_module_version": "1.2.0",
            "grid_template_areas": null,
            "object_position": null,
            "object_fit": null,
            "grid_auto_columns": null,
            "margin": null,
            "display": null,
            "left": null
          }
        },
        "4c3f6395de914ea1b54b0663fab9da24": {
          "model_module": "@jupyter-widgets/controls",
          "model_name": "ProgressStyleModel",
          "model_module_version": "1.5.0",
          "state": {
            "_view_name": "StyleView",
            "_model_name": "ProgressStyleModel",
            "description_width": "",
            "_view_module": "@jupyter-widgets/base",
            "_model_module_version": "1.5.0",
            "_view_count": null,
            "_view_module_version": "1.2.0",
            "bar_color": null,
            "_model_module": "@jupyter-widgets/controls"
          }
        },
        "81b842fd892647af8f999a8a1b0e5a52": {
          "model_module": "@jupyter-widgets/base",
          "model_name": "LayoutModel",
          "model_module_version": "1.2.0",
          "state": {
            "_view_name": "LayoutView",
            "grid_template_rows": null,
            "right": null,
            "justify_content": null,
            "_view_module": "@jupyter-widgets/base",
            "overflow": null,
            "_model_module_version": "1.2.0",
            "_view_count": null,
            "flex_flow": null,
            "width": null,
            "min_width": null,
            "border": null,
            "align_items": null,
            "bottom": null,
            "_model_module": "@jupyter-widgets/base",
            "top": null,
            "grid_column": null,
            "overflow_y": null,
            "overflow_x": null,
            "grid_auto_flow": null,
            "grid_area": null,
            "grid_template_columns": null,
            "flex": null,
            "_model_name": "LayoutModel",
            "justify_items": null,
            "grid_row": null,
            "max_height": null,
            "align_content": null,
            "visibility": null,
            "align_self": null,
            "height": null,
            "min_height": null,
            "padding": null,
            "grid_auto_rows": null,
            "grid_gap": null,
            "max_width": null,
            "order": null,
            "_view_module_version": "1.2.0",
            "grid_template_areas": null,
            "object_position": null,
            "object_fit": null,
            "grid_auto_columns": null,
            "margin": null,
            "display": null,
            "left": null
          }
        },
        "ce2eab4aec5f4bd79dd6bdb35d32c704": {
          "model_module": "@jupyter-widgets/controls",
          "model_name": "DescriptionStyleModel",
          "model_module_version": "1.5.0",
          "state": {
            "_view_name": "StyleView",
            "_model_name": "DescriptionStyleModel",
            "description_width": "",
            "_view_module": "@jupyter-widgets/base",
            "_model_module_version": "1.5.0",
            "_view_count": null,
            "_view_module_version": "1.2.0",
            "_model_module": "@jupyter-widgets/controls"
          }
        },
        "41e43ac6fedb41ab862ec1b0b5c1764d": {
          "model_module": "@jupyter-widgets/base",
          "model_name": "LayoutModel",
          "model_module_version": "1.2.0",
          "state": {
            "_view_name": "LayoutView",
            "grid_template_rows": null,
            "right": null,
            "justify_content": null,
            "_view_module": "@jupyter-widgets/base",
            "overflow": null,
            "_model_module_version": "1.2.0",
            "_view_count": null,
            "flex_flow": null,
            "width": null,
            "min_width": null,
            "border": null,
            "align_items": null,
            "bottom": null,
            "_model_module": "@jupyter-widgets/base",
            "top": null,
            "grid_column": null,
            "overflow_y": null,
            "overflow_x": null,
            "grid_auto_flow": null,
            "grid_area": null,
            "grid_template_columns": null,
            "flex": null,
            "_model_name": "LayoutModel",
            "justify_items": null,
            "grid_row": null,
            "max_height": null,
            "align_content": null,
            "visibility": null,
            "align_self": null,
            "height": null,
            "min_height": null,
            "padding": null,
            "grid_auto_rows": null,
            "grid_gap": null,
            "max_width": null,
            "order": null,
            "_view_module_version": "1.2.0",
            "grid_template_areas": null,
            "object_position": null,
            "object_fit": null,
            "grid_auto_columns": null,
            "margin": null,
            "display": null,
            "left": null
          }
        },
        "ae17cbbfc86744b2894a48cb6fa5e779": {
          "model_module": "@jupyter-widgets/controls",
          "model_name": "HBoxModel",
          "model_module_version": "1.5.0",
          "state": {
            "_view_name": "HBoxView",
            "_dom_classes": [],
            "_model_name": "HBoxModel",
            "_view_module": "@jupyter-widgets/controls",
            "_model_module_version": "1.5.0",
            "_view_count": null,
            "_view_module_version": "1.5.0",
            "box_style": "",
            "layout": "IPY_MODEL_06434da4a1e044d0a4ccef9d420ac530",
            "_model_module": "@jupyter-widgets/controls",
            "children": [
              "IPY_MODEL_9ea882a60bb1441aa759ec64e85d365e",
              "IPY_MODEL_cf9c338427c1490f93f77253f61e88dc",
              "IPY_MODEL_c6770dfff5a54a7780cd5b1d7bd93756"
            ]
          }
        },
        "06434da4a1e044d0a4ccef9d420ac530": {
          "model_module": "@jupyter-widgets/base",
          "model_name": "LayoutModel",
          "model_module_version": "1.2.0",
          "state": {
            "_view_name": "LayoutView",
            "grid_template_rows": null,
            "right": null,
            "justify_content": null,
            "_view_module": "@jupyter-widgets/base",
            "overflow": null,
            "_model_module_version": "1.2.0",
            "_view_count": null,
            "flex_flow": null,
            "width": null,
            "min_width": null,
            "border": null,
            "align_items": null,
            "bottom": null,
            "_model_module": "@jupyter-widgets/base",
            "top": null,
            "grid_column": null,
            "overflow_y": null,
            "overflow_x": null,
            "grid_auto_flow": null,
            "grid_area": null,
            "grid_template_columns": null,
            "flex": null,
            "_model_name": "LayoutModel",
            "justify_items": null,
            "grid_row": null,
            "max_height": null,
            "align_content": null,
            "visibility": null,
            "align_self": null,
            "height": null,
            "min_height": null,
            "padding": null,
            "grid_auto_rows": null,
            "grid_gap": null,
            "max_width": null,
            "order": null,
            "_view_module_version": "1.2.0",
            "grid_template_areas": null,
            "object_position": null,
            "object_fit": null,
            "grid_auto_columns": null,
            "margin": null,
            "display": null,
            "left": null
          }
        },
        "9ea882a60bb1441aa759ec64e85d365e": {
          "model_module": "@jupyter-widgets/controls",
          "model_name": "HTMLModel",
          "model_module_version": "1.5.0",
          "state": {
            "_view_name": "HTMLView",
            "style": "IPY_MODEL_4118cbb54a5e4e66995da471a861232c",
            "_dom_classes": [],
            "description": "",
            "_model_name": "HTMLModel",
            "placeholder": "​",
            "_view_module": "@jupyter-widgets/controls",
            "_model_module_version": "1.5.0",
            "value": "Downloading: 100%",
            "_view_count": null,
            "_view_module_version": "1.5.0",
            "description_tooltip": null,
            "_model_module": "@jupyter-widgets/controls",
            "layout": "IPY_MODEL_1dd97569e00f418aa7417948d0465e76"
          }
        },
        "cf9c338427c1490f93f77253f61e88dc": {
          "model_module": "@jupyter-widgets/controls",
          "model_name": "FloatProgressModel",
          "model_module_version": "1.5.0",
          "state": {
            "_view_name": "ProgressView",
            "style": "IPY_MODEL_7bab72e614824e39babf7bb025ab057e",
            "_dom_classes": [],
            "description": "",
            "_model_name": "FloatProgressModel",
            "bar_style": "success",
            "max": 466247,
            "_view_module": "@jupyter-widgets/controls",
            "_model_module_version": "1.5.0",
            "value": 466247,
            "_view_count": null,
            "_view_module_version": "1.5.0",
            "orientation": "horizontal",
            "min": 0,
            "description_tooltip": null,
            "_model_module": "@jupyter-widgets/controls",
            "layout": "IPY_MODEL_fe9bd245da364e9c813e641f97d40c55"
          }
        },
        "c6770dfff5a54a7780cd5b1d7bd93756": {
          "model_module": "@jupyter-widgets/controls",
          "model_name": "HTMLModel",
          "model_module_version": "1.5.0",
          "state": {
            "_view_name": "HTMLView",
            "style": "IPY_MODEL_1babcaf661f846f6a251228cfa27f959",
            "_dom_classes": [],
            "description": "",
            "_model_name": "HTMLModel",
            "placeholder": "​",
            "_view_module": "@jupyter-widgets/controls",
            "_model_module_version": "1.5.0",
            "value": " 466k/466k [00:00&lt;00:00, 650kB/s]",
            "_view_count": null,
            "_view_module_version": "1.5.0",
            "description_tooltip": null,
            "_model_module": "@jupyter-widgets/controls",
            "layout": "IPY_MODEL_458dc7332e574321a10a5bba78eb90a4"
          }
        },
        "4118cbb54a5e4e66995da471a861232c": {
          "model_module": "@jupyter-widgets/controls",
          "model_name": "DescriptionStyleModel",
          "model_module_version": "1.5.0",
          "state": {
            "_view_name": "StyleView",
            "_model_name": "DescriptionStyleModel",
            "description_width": "",
            "_view_module": "@jupyter-widgets/base",
            "_model_module_version": "1.5.0",
            "_view_count": null,
            "_view_module_version": "1.2.0",
            "_model_module": "@jupyter-widgets/controls"
          }
        },
        "1dd97569e00f418aa7417948d0465e76": {
          "model_module": "@jupyter-widgets/base",
          "model_name": "LayoutModel",
          "model_module_version": "1.2.0",
          "state": {
            "_view_name": "LayoutView",
            "grid_template_rows": null,
            "right": null,
            "justify_content": null,
            "_view_module": "@jupyter-widgets/base",
            "overflow": null,
            "_model_module_version": "1.2.0",
            "_view_count": null,
            "flex_flow": null,
            "width": null,
            "min_width": null,
            "border": null,
            "align_items": null,
            "bottom": null,
            "_model_module": "@jupyter-widgets/base",
            "top": null,
            "grid_column": null,
            "overflow_y": null,
            "overflow_x": null,
            "grid_auto_flow": null,
            "grid_area": null,
            "grid_template_columns": null,
            "flex": null,
            "_model_name": "LayoutModel",
            "justify_items": null,
            "grid_row": null,
            "max_height": null,
            "align_content": null,
            "visibility": null,
            "align_self": null,
            "height": null,
            "min_height": null,
            "padding": null,
            "grid_auto_rows": null,
            "grid_gap": null,
            "max_width": null,
            "order": null,
            "_view_module_version": "1.2.0",
            "grid_template_areas": null,
            "object_position": null,
            "object_fit": null,
            "grid_auto_columns": null,
            "margin": null,
            "display": null,
            "left": null
          }
        },
        "7bab72e614824e39babf7bb025ab057e": {
          "model_module": "@jupyter-widgets/controls",
          "model_name": "ProgressStyleModel",
          "model_module_version": "1.5.0",
          "state": {
            "_view_name": "StyleView",
            "_model_name": "ProgressStyleModel",
            "description_width": "",
            "_view_module": "@jupyter-widgets/base",
            "_model_module_version": "1.5.0",
            "_view_count": null,
            "_view_module_version": "1.2.0",
            "bar_color": null,
            "_model_module": "@jupyter-widgets/controls"
          }
        },
        "fe9bd245da364e9c813e641f97d40c55": {
          "model_module": "@jupyter-widgets/base",
          "model_name": "LayoutModel",
          "model_module_version": "1.2.0",
          "state": {
            "_view_name": "LayoutView",
            "grid_template_rows": null,
            "right": null,
            "justify_content": null,
            "_view_module": "@jupyter-widgets/base",
            "overflow": null,
            "_model_module_version": "1.2.0",
            "_view_count": null,
            "flex_flow": null,
            "width": null,
            "min_width": null,
            "border": null,
            "align_items": null,
            "bottom": null,
            "_model_module": "@jupyter-widgets/base",
            "top": null,
            "grid_column": null,
            "overflow_y": null,
            "overflow_x": null,
            "grid_auto_flow": null,
            "grid_area": null,
            "grid_template_columns": null,
            "flex": null,
            "_model_name": "LayoutModel",
            "justify_items": null,
            "grid_row": null,
            "max_height": null,
            "align_content": null,
            "visibility": null,
            "align_self": null,
            "height": null,
            "min_height": null,
            "padding": null,
            "grid_auto_rows": null,
            "grid_gap": null,
            "max_width": null,
            "order": null,
            "_view_module_version": "1.2.0",
            "grid_template_areas": null,
            "object_position": null,
            "object_fit": null,
            "grid_auto_columns": null,
            "margin": null,
            "display": null,
            "left": null
          }
        },
        "1babcaf661f846f6a251228cfa27f959": {
          "model_module": "@jupyter-widgets/controls",
          "model_name": "DescriptionStyleModel",
          "model_module_version": "1.5.0",
          "state": {
            "_view_name": "StyleView",
            "_model_name": "DescriptionStyleModel",
            "description_width": "",
            "_view_module": "@jupyter-widgets/base",
            "_model_module_version": "1.5.0",
            "_view_count": null,
            "_view_module_version": "1.2.0",
            "_model_module": "@jupyter-widgets/controls"
          }
        },
        "458dc7332e574321a10a5bba78eb90a4": {
          "model_module": "@jupyter-widgets/base",
          "model_name": "LayoutModel",
          "model_module_version": "1.2.0",
          "state": {
            "_view_name": "LayoutView",
            "grid_template_rows": null,
            "right": null,
            "justify_content": null,
            "_view_module": "@jupyter-widgets/base",
            "overflow": null,
            "_model_module_version": "1.2.0",
            "_view_count": null,
            "flex_flow": null,
            "width": null,
            "min_width": null,
            "border": null,
            "align_items": null,
            "bottom": null,
            "_model_module": "@jupyter-widgets/base",
            "top": null,
            "grid_column": null,
            "overflow_y": null,
            "overflow_x": null,
            "grid_auto_flow": null,
            "grid_area": null,
            "grid_template_columns": null,
            "flex": null,
            "_model_name": "LayoutModel",
            "justify_items": null,
            "grid_row": null,
            "max_height": null,
            "align_content": null,
            "visibility": null,
            "align_self": null,
            "height": null,
            "min_height": null,
            "padding": null,
            "grid_auto_rows": null,
            "grid_gap": null,
            "max_width": null,
            "order": null,
            "_view_module_version": "1.2.0",
            "grid_template_areas": null,
            "object_position": null,
            "object_fit": null,
            "grid_auto_columns": null,
            "margin": null,
            "display": null,
            "left": null
          }
        },
        "0125f0639ce34de1a4207ad0b2b0b0f1": {
          "model_module": "@jupyter-widgets/controls",
          "model_name": "HBoxModel",
          "model_module_version": "1.5.0",
          "state": {
            "_view_name": "HBoxView",
            "_dom_classes": [],
            "_model_name": "HBoxModel",
            "_view_module": "@jupyter-widgets/controls",
            "_model_module_version": "1.5.0",
            "_view_count": null,
            "_view_module_version": "1.5.0",
            "box_style": "",
            "layout": "IPY_MODEL_8e764935cb564ec9810979154643f5a8",
            "_model_module": "@jupyter-widgets/controls",
            "children": [
              "IPY_MODEL_cd6f056f727c48e3a4282d6ea2c4dce8",
              "IPY_MODEL_1411eaca317445cca6464490f12c8cf3",
              "IPY_MODEL_a816aceb0db949339495ff1b2f8242be"
            ]
          }
        },
        "8e764935cb564ec9810979154643f5a8": {
          "model_module": "@jupyter-widgets/base",
          "model_name": "LayoutModel",
          "model_module_version": "1.2.0",
          "state": {
            "_view_name": "LayoutView",
            "grid_template_rows": null,
            "right": null,
            "justify_content": null,
            "_view_module": "@jupyter-widgets/base",
            "overflow": null,
            "_model_module_version": "1.2.0",
            "_view_count": null,
            "flex_flow": null,
            "width": null,
            "min_width": null,
            "border": null,
            "align_items": null,
            "bottom": null,
            "_model_module": "@jupyter-widgets/base",
            "top": null,
            "grid_column": null,
            "overflow_y": null,
            "overflow_x": null,
            "grid_auto_flow": null,
            "grid_area": null,
            "grid_template_columns": null,
            "flex": null,
            "_model_name": "LayoutModel",
            "justify_items": null,
            "grid_row": null,
            "max_height": null,
            "align_content": null,
            "visibility": null,
            "align_self": null,
            "height": null,
            "min_height": null,
            "padding": null,
            "grid_auto_rows": null,
            "grid_gap": null,
            "max_width": null,
            "order": null,
            "_view_module_version": "1.2.0",
            "grid_template_areas": null,
            "object_position": null,
            "object_fit": null,
            "grid_auto_columns": null,
            "margin": null,
            "display": null,
            "left": null
          }
        },
        "cd6f056f727c48e3a4282d6ea2c4dce8": {
          "model_module": "@jupyter-widgets/controls",
          "model_name": "HTMLModel",
          "model_module_version": "1.5.0",
          "state": {
            "_view_name": "HTMLView",
            "style": "IPY_MODEL_66828122ebf0402c90174bf675c5f6f0",
            "_dom_classes": [],
            "description": "",
            "_model_name": "HTMLModel",
            "placeholder": "​",
            "_view_module": "@jupyter-widgets/controls",
            "_model_module_version": "1.5.0",
            "value": "Downloading: 100%",
            "_view_count": null,
            "_view_module_version": "1.5.0",
            "description_tooltip": null,
            "_model_module": "@jupyter-widgets/controls",
            "layout": "IPY_MODEL_03e4b0e35326471e97e275795fbe4714"
          }
        },
        "1411eaca317445cca6464490f12c8cf3": {
          "model_module": "@jupyter-widgets/controls",
          "model_name": "FloatProgressModel",
          "model_module_version": "1.5.0",
          "state": {
            "_view_name": "ProgressView",
            "style": "IPY_MODEL_23065e00412b4b4998e0e792c671b231",
            "_dom_classes": [],
            "description": "",
            "_model_name": "FloatProgressModel",
            "bar_style": "success",
            "max": 112,
            "_view_module": "@jupyter-widgets/controls",
            "_model_module_version": "1.5.0",
            "value": 112,
            "_view_count": null,
            "_view_module_version": "1.5.0",
            "orientation": "horizontal",
            "min": 0,
            "description_tooltip": null,
            "_model_module": "@jupyter-widgets/controls",
            "layout": "IPY_MODEL_cbf726cfa21d43cba2d03b5e1d35d546"
          }
        },
        "a816aceb0db949339495ff1b2f8242be": {
          "model_module": "@jupyter-widgets/controls",
          "model_name": "HTMLModel",
          "model_module_version": "1.5.0",
          "state": {
            "_view_name": "HTMLView",
            "style": "IPY_MODEL_438b53260ab44e5c9504a3e9f2221512",
            "_dom_classes": [],
            "description": "",
            "_model_name": "HTMLModel",
            "placeholder": "​",
            "_view_module": "@jupyter-widgets/controls",
            "_model_module_version": "1.5.0",
            "value": " 112/112 [00:00&lt;00:00, 2.48kB/s]",
            "_view_count": null,
            "_view_module_version": "1.5.0",
            "description_tooltip": null,
            "_model_module": "@jupyter-widgets/controls",
            "layout": "IPY_MODEL_007a8fa3b4474016936c7b7698b75920"
          }
        },
        "66828122ebf0402c90174bf675c5f6f0": {
          "model_module": "@jupyter-widgets/controls",
          "model_name": "DescriptionStyleModel",
          "model_module_version": "1.5.0",
          "state": {
            "_view_name": "StyleView",
            "_model_name": "DescriptionStyleModel",
            "description_width": "",
            "_view_module": "@jupyter-widgets/base",
            "_model_module_version": "1.5.0",
            "_view_count": null,
            "_view_module_version": "1.2.0",
            "_model_module": "@jupyter-widgets/controls"
          }
        },
        "03e4b0e35326471e97e275795fbe4714": {
          "model_module": "@jupyter-widgets/base",
          "model_name": "LayoutModel",
          "model_module_version": "1.2.0",
          "state": {
            "_view_name": "LayoutView",
            "grid_template_rows": null,
            "right": null,
            "justify_content": null,
            "_view_module": "@jupyter-widgets/base",
            "overflow": null,
            "_model_module_version": "1.2.0",
            "_view_count": null,
            "flex_flow": null,
            "width": null,
            "min_width": null,
            "border": null,
            "align_items": null,
            "bottom": null,
            "_model_module": "@jupyter-widgets/base",
            "top": null,
            "grid_column": null,
            "overflow_y": null,
            "overflow_x": null,
            "grid_auto_flow": null,
            "grid_area": null,
            "grid_template_columns": null,
            "flex": null,
            "_model_name": "LayoutModel",
            "justify_items": null,
            "grid_row": null,
            "max_height": null,
            "align_content": null,
            "visibility": null,
            "align_self": null,
            "height": null,
            "min_height": null,
            "padding": null,
            "grid_auto_rows": null,
            "grid_gap": null,
            "max_width": null,
            "order": null,
            "_view_module_version": "1.2.0",
            "grid_template_areas": null,
            "object_position": null,
            "object_fit": null,
            "grid_auto_columns": null,
            "margin": null,
            "display": null,
            "left": null
          }
        },
        "23065e00412b4b4998e0e792c671b231": {
          "model_module": "@jupyter-widgets/controls",
          "model_name": "ProgressStyleModel",
          "model_module_version": "1.5.0",
          "state": {
            "_view_name": "StyleView",
            "_model_name": "ProgressStyleModel",
            "description_width": "",
            "_view_module": "@jupyter-widgets/base",
            "_model_module_version": "1.5.0",
            "_view_count": null,
            "_view_module_version": "1.2.0",
            "bar_color": null,
            "_model_module": "@jupyter-widgets/controls"
          }
        },
        "cbf726cfa21d43cba2d03b5e1d35d546": {
          "model_module": "@jupyter-widgets/base",
          "model_name": "LayoutModel",
          "model_module_version": "1.2.0",
          "state": {
            "_view_name": "LayoutView",
            "grid_template_rows": null,
            "right": null,
            "justify_content": null,
            "_view_module": "@jupyter-widgets/base",
            "overflow": null,
            "_model_module_version": "1.2.0",
            "_view_count": null,
            "flex_flow": null,
            "width": null,
            "min_width": null,
            "border": null,
            "align_items": null,
            "bottom": null,
            "_model_module": "@jupyter-widgets/base",
            "top": null,
            "grid_column": null,
            "overflow_y": null,
            "overflow_x": null,
            "grid_auto_flow": null,
            "grid_area": null,
            "grid_template_columns": null,
            "flex": null,
            "_model_name": "LayoutModel",
            "justify_items": null,
            "grid_row": null,
            "max_height": null,
            "align_content": null,
            "visibility": null,
            "align_self": null,
            "height": null,
            "min_height": null,
            "padding": null,
            "grid_auto_rows": null,
            "grid_gap": null,
            "max_width": null,
            "order": null,
            "_view_module_version": "1.2.0",
            "grid_template_areas": null,
            "object_position": null,
            "object_fit": null,
            "grid_auto_columns": null,
            "margin": null,
            "display": null,
            "left": null
          }
        },
        "438b53260ab44e5c9504a3e9f2221512": {
          "model_module": "@jupyter-widgets/controls",
          "model_name": "DescriptionStyleModel",
          "model_module_version": "1.5.0",
          "state": {
            "_view_name": "StyleView",
            "_model_name": "DescriptionStyleModel",
            "description_width": "",
            "_view_module": "@jupyter-widgets/base",
            "_model_module_version": "1.5.0",
            "_view_count": null,
            "_view_module_version": "1.2.0",
            "_model_module": "@jupyter-widgets/controls"
          }
        },
        "007a8fa3b4474016936c7b7698b75920": {
          "model_module": "@jupyter-widgets/base",
          "model_name": "LayoutModel",
          "model_module_version": "1.2.0",
          "state": {
            "_view_name": "LayoutView",
            "grid_template_rows": null,
            "right": null,
            "justify_content": null,
            "_view_module": "@jupyter-widgets/base",
            "overflow": null,
            "_model_module_version": "1.2.0",
            "_view_count": null,
            "flex_flow": null,
            "width": null,
            "min_width": null,
            "border": null,
            "align_items": null,
            "bottom": null,
            "_model_module": "@jupyter-widgets/base",
            "top": null,
            "grid_column": null,
            "overflow_y": null,
            "overflow_x": null,
            "grid_auto_flow": null,
            "grid_area": null,
            "grid_template_columns": null,
            "flex": null,
            "_model_name": "LayoutModel",
            "justify_items": null,
            "grid_row": null,
            "max_height": null,
            "align_content": null,
            "visibility": null,
            "align_self": null,
            "height": null,
            "min_height": null,
            "padding": null,
            "grid_auto_rows": null,
            "grid_gap": null,
            "max_width": null,
            "order": null,
            "_view_module_version": "1.2.0",
            "grid_template_areas": null,
            "object_position": null,
            "object_fit": null,
            "grid_auto_columns": null,
            "margin": null,
            "display": null,
            "left": null
          }
        },
        "3b7dc78683354627853f9be829c2767d": {
          "model_module": "@jupyter-widgets/controls",
          "model_name": "HBoxModel",
          "model_module_version": "1.5.0",
          "state": {
            "_view_name": "HBoxView",
            "_dom_classes": [],
            "_model_name": "HBoxModel",
            "_view_module": "@jupyter-widgets/controls",
            "_model_module_version": "1.5.0",
            "_view_count": null,
            "_view_module_version": "1.5.0",
            "box_style": "",
            "layout": "IPY_MODEL_320932491ef84beaafcf73182415ed2a",
            "_model_module": "@jupyter-widgets/controls",
            "children": [
              "IPY_MODEL_136dba3549ca42ada36d435365bc9f28",
              "IPY_MODEL_58cb3283bb8c42be84261367b4cf2db2",
              "IPY_MODEL_559322f663db41e2a22cff20ee920230"
            ]
          }
        },
        "320932491ef84beaafcf73182415ed2a": {
          "model_module": "@jupyter-widgets/base",
          "model_name": "LayoutModel",
          "model_module_version": "1.2.0",
          "state": {
            "_view_name": "LayoutView",
            "grid_template_rows": null,
            "right": null,
            "justify_content": null,
            "_view_module": "@jupyter-widgets/base",
            "overflow": null,
            "_model_module_version": "1.2.0",
            "_view_count": null,
            "flex_flow": null,
            "width": null,
            "min_width": null,
            "border": null,
            "align_items": null,
            "bottom": null,
            "_model_module": "@jupyter-widgets/base",
            "top": null,
            "grid_column": null,
            "overflow_y": null,
            "overflow_x": null,
            "grid_auto_flow": null,
            "grid_area": null,
            "grid_template_columns": null,
            "flex": null,
            "_model_name": "LayoutModel",
            "justify_items": null,
            "grid_row": null,
            "max_height": null,
            "align_content": null,
            "visibility": null,
            "align_self": null,
            "height": null,
            "min_height": null,
            "padding": null,
            "grid_auto_rows": null,
            "grid_gap": null,
            "max_width": null,
            "order": null,
            "_view_module_version": "1.2.0",
            "grid_template_areas": null,
            "object_position": null,
            "object_fit": null,
            "grid_auto_columns": null,
            "margin": null,
            "display": null,
            "left": null
          }
        },
        "136dba3549ca42ada36d435365bc9f28": {
          "model_module": "@jupyter-widgets/controls",
          "model_name": "HTMLModel",
          "model_module_version": "1.5.0",
          "state": {
            "_view_name": "HTMLView",
            "style": "IPY_MODEL_860aa9b5c8c443978d7cf7be1e68c24d",
            "_dom_classes": [],
            "description": "",
            "_model_name": "HTMLModel",
            "placeholder": "​",
            "_view_module": "@jupyter-widgets/controls",
            "_model_module_version": "1.5.0",
            "value": "Downloading: 100%",
            "_view_count": null,
            "_view_module_version": "1.5.0",
            "description_tooltip": null,
            "_model_module": "@jupyter-widgets/controls",
            "layout": "IPY_MODEL_95c5b25eb9204f22aee9ed39b5db7fd2"
          }
        },
        "58cb3283bb8c42be84261367b4cf2db2": {
          "model_module": "@jupyter-widgets/controls",
          "model_name": "FloatProgressModel",
          "model_module_version": "1.5.0",
          "state": {
            "_view_name": "ProgressView",
            "style": "IPY_MODEL_d36017ff141b44e1940f1954c2e80741",
            "_dom_classes": [],
            "description": "",
            "_model_name": "FloatProgressModel",
            "bar_style": "success",
            "max": 350,
            "_view_module": "@jupyter-widgets/controls",
            "_model_module_version": "1.5.0",
            "value": 350,
            "_view_count": null,
            "_view_module_version": "1.5.0",
            "orientation": "horizontal",
            "min": 0,
            "description_tooltip": null,
            "_model_module": "@jupyter-widgets/controls",
            "layout": "IPY_MODEL_79595f3d38cb4d3fad60503ec77d4731"
          }
        },
        "559322f663db41e2a22cff20ee920230": {
          "model_module": "@jupyter-widgets/controls",
          "model_name": "HTMLModel",
          "model_module_version": "1.5.0",
          "state": {
            "_view_name": "HTMLView",
            "style": "IPY_MODEL_490924df351a45d6ace08f99077c1226",
            "_dom_classes": [],
            "description": "",
            "_model_name": "HTMLModel",
            "placeholder": "​",
            "_view_module": "@jupyter-widgets/controls",
            "_model_module_version": "1.5.0",
            "value": " 350/350 [00:00&lt;00:00, 8.11kB/s]",
            "_view_count": null,
            "_view_module_version": "1.5.0",
            "description_tooltip": null,
            "_model_module": "@jupyter-widgets/controls",
            "layout": "IPY_MODEL_8dc91d6cb69c48f1be4dd1b24435deba"
          }
        },
        "860aa9b5c8c443978d7cf7be1e68c24d": {
          "model_module": "@jupyter-widgets/controls",
          "model_name": "DescriptionStyleModel",
          "model_module_version": "1.5.0",
          "state": {
            "_view_name": "StyleView",
            "_model_name": "DescriptionStyleModel",
            "description_width": "",
            "_view_module": "@jupyter-widgets/base",
            "_model_module_version": "1.5.0",
            "_view_count": null,
            "_view_module_version": "1.2.0",
            "_model_module": "@jupyter-widgets/controls"
          }
        },
        "95c5b25eb9204f22aee9ed39b5db7fd2": {
          "model_module": "@jupyter-widgets/base",
          "model_name": "LayoutModel",
          "model_module_version": "1.2.0",
          "state": {
            "_view_name": "LayoutView",
            "grid_template_rows": null,
            "right": null,
            "justify_content": null,
            "_view_module": "@jupyter-widgets/base",
            "overflow": null,
            "_model_module_version": "1.2.0",
            "_view_count": null,
            "flex_flow": null,
            "width": null,
            "min_width": null,
            "border": null,
            "align_items": null,
            "bottom": null,
            "_model_module": "@jupyter-widgets/base",
            "top": null,
            "grid_column": null,
            "overflow_y": null,
            "overflow_x": null,
            "grid_auto_flow": null,
            "grid_area": null,
            "grid_template_columns": null,
            "flex": null,
            "_model_name": "LayoutModel",
            "justify_items": null,
            "grid_row": null,
            "max_height": null,
            "align_content": null,
            "visibility": null,
            "align_self": null,
            "height": null,
            "min_height": null,
            "padding": null,
            "grid_auto_rows": null,
            "grid_gap": null,
            "max_width": null,
            "order": null,
            "_view_module_version": "1.2.0",
            "grid_template_areas": null,
            "object_position": null,
            "object_fit": null,
            "grid_auto_columns": null,
            "margin": null,
            "display": null,
            "left": null
          }
        },
        "d36017ff141b44e1940f1954c2e80741": {
          "model_module": "@jupyter-widgets/controls",
          "model_name": "ProgressStyleModel",
          "model_module_version": "1.5.0",
          "state": {
            "_view_name": "StyleView",
            "_model_name": "ProgressStyleModel",
            "description_width": "",
            "_view_module": "@jupyter-widgets/base",
            "_model_module_version": "1.5.0",
            "_view_count": null,
            "_view_module_version": "1.2.0",
            "bar_color": null,
            "_model_module": "@jupyter-widgets/controls"
          }
        },
        "79595f3d38cb4d3fad60503ec77d4731": {
          "model_module": "@jupyter-widgets/base",
          "model_name": "LayoutModel",
          "model_module_version": "1.2.0",
          "state": {
            "_view_name": "LayoutView",
            "grid_template_rows": null,
            "right": null,
            "justify_content": null,
            "_view_module": "@jupyter-widgets/base",
            "overflow": null,
            "_model_module_version": "1.2.0",
            "_view_count": null,
            "flex_flow": null,
            "width": null,
            "min_width": null,
            "border": null,
            "align_items": null,
            "bottom": null,
            "_model_module": "@jupyter-widgets/base",
            "top": null,
            "grid_column": null,
            "overflow_y": null,
            "overflow_x": null,
            "grid_auto_flow": null,
            "grid_area": null,
            "grid_template_columns": null,
            "flex": null,
            "_model_name": "LayoutModel",
            "justify_items": null,
            "grid_row": null,
            "max_height": null,
            "align_content": null,
            "visibility": null,
            "align_self": null,
            "height": null,
            "min_height": null,
            "padding": null,
            "grid_auto_rows": null,
            "grid_gap": null,
            "max_width": null,
            "order": null,
            "_view_module_version": "1.2.0",
            "grid_template_areas": null,
            "object_position": null,
            "object_fit": null,
            "grid_auto_columns": null,
            "margin": null,
            "display": null,
            "left": null
          }
        },
        "490924df351a45d6ace08f99077c1226": {
          "model_module": "@jupyter-widgets/controls",
          "model_name": "DescriptionStyleModel",
          "model_module_version": "1.5.0",
          "state": {
            "_view_name": "StyleView",
            "_model_name": "DescriptionStyleModel",
            "description_width": "",
            "_view_module": "@jupyter-widgets/base",
            "_model_module_version": "1.5.0",
            "_view_count": null,
            "_view_module_version": "1.2.0",
            "_model_module": "@jupyter-widgets/controls"
          }
        },
        "8dc91d6cb69c48f1be4dd1b24435deba": {
          "model_module": "@jupyter-widgets/base",
          "model_name": "LayoutModel",
          "model_module_version": "1.2.0",
          "state": {
            "_view_name": "LayoutView",
            "grid_template_rows": null,
            "right": null,
            "justify_content": null,
            "_view_module": "@jupyter-widgets/base",
            "overflow": null,
            "_model_module_version": "1.2.0",
            "_view_count": null,
            "flex_flow": null,
            "width": null,
            "min_width": null,
            "border": null,
            "align_items": null,
            "bottom": null,
            "_model_module": "@jupyter-widgets/base",
            "top": null,
            "grid_column": null,
            "overflow_y": null,
            "overflow_x": null,
            "grid_auto_flow": null,
            "grid_area": null,
            "grid_template_columns": null,
            "flex": null,
            "_model_name": "LayoutModel",
            "justify_items": null,
            "grid_row": null,
            "max_height": null,
            "align_content": null,
            "visibility": null,
            "align_self": null,
            "height": null,
            "min_height": null,
            "padding": null,
            "grid_auto_rows": null,
            "grid_gap": null,
            "max_width": null,
            "order": null,
            "_view_module_version": "1.2.0",
            "grid_template_areas": null,
            "object_position": null,
            "object_fit": null,
            "grid_auto_columns": null,
            "margin": null,
            "display": null,
            "left": null
          }
        }
      }
    }
  },
  "cells": [
    {
      "cell_type": "markdown",
      "metadata": {
        "id": "hUd5LhChNtM8"
      },
      "source": [
        "# [EDA And Data collection ] :  Optional \n",
        "\n",
        "> Optional "
      ]
    },
    {
      "cell_type": "code",
      "metadata": {
        "colab": {
          "base_uri": "https://localhost:8080/"
        },
        "id": "NZKvhfPPNya5",
        "outputId": "fc170c5f-965c-43f5-aa3f-ab4f964070e1"
      },
      "source": [
        "!wget https://archive.org/download/stackexchange/ai.stackexchange.com.7z"
      ],
      "execution_count": null,
      "outputs": [
        {
          "output_type": "stream",
          "name": "stdout",
          "text": [
            "--2021-11-12 18:18:19--  https://archive.org/download/stackexchange/ai.stackexchange.com.7z\n",
            "Resolving archive.org (archive.org)... 207.241.224.2\n",
            "Connecting to archive.org (archive.org)|207.241.224.2|:443... connected.\n",
            "HTTP request sent, awaiting response... 302 Found\n",
            "Location: https://ia600107.us.archive.org/27/items/stackexchange/ai.stackexchange.com.7z [following]\n",
            "--2021-11-12 18:18:20--  https://ia600107.us.archive.org/27/items/stackexchange/ai.stackexchange.com.7z\n",
            "Resolving ia600107.us.archive.org (ia600107.us.archive.org)... 207.241.227.247\n",
            "Connecting to ia600107.us.archive.org (ia600107.us.archive.org)|207.241.227.247|:443... connected.\n",
            "HTTP request sent, awaiting response... 200 OK\n",
            "Length: 26406301 (25M) [application/x-7z-compressed]\n",
            "Saving to: ‘ai.stackexchange.com.7z’\n",
            "\n",
            "ai.stackexchange.co 100%[===================>]  25.18M   929KB/s    in 17s     \n",
            "\n",
            "2021-11-12 18:18:37 (1.46 MB/s) - ‘ai.stackexchange.com.7z’ saved [26406301/26406301]\n",
            "\n"
          ]
        }
      ]
    },
    {
      "cell_type": "markdown",
      "metadata": {
        "id": "hmJAqlg9QHpt"
      },
      "source": [
        "Unziping .7z"
      ]
    },
    {
      "cell_type": "code",
      "metadata": {
        "colab": {
          "base_uri": "https://localhost:8080/"
        },
        "id": "yDZsFN4ZO5_6",
        "outputId": "b516a5bd-0235-4102-ac99-24b7635fba06"
      },
      "source": [
        "!sudo apt-get install p7zip\n",
        "!sudp atp-get install p7zip-full"
      ],
      "execution_count": null,
      "outputs": [
        {
          "output_type": "stream",
          "name": "stdout",
          "text": [
            "Reading package lists... Done\n",
            "Building dependency tree       \n",
            "Reading state information... Done\n",
            "p7zip is already the newest version (16.02+dfsg-6).\n",
            "0 upgraded, 0 newly installed, 0 to remove and 37 not upgraded.\n",
            "/bin/bash: sudp: command not found\n"
          ]
        }
      ]
    },
    {
      "cell_type": "code",
      "metadata": {
        "colab": {
          "base_uri": "https://localhost:8080/"
        },
        "id": "Q_gXNVXDQMG3",
        "outputId": "f21b29db-9d10-48d0-c134-8117ca99ec54"
      },
      "source": [
        "!7za x *.7z"
      ],
      "execution_count": null,
      "outputs": [
        {
          "output_type": "stream",
          "name": "stdout",
          "text": [
            "\n",
            "7-Zip (a) [64] 16.02 : Copyright (c) 1999-2016 Igor Pavlov : 2016-05-21\n",
            "p7zip Version 16.02 (locale=en_US.UTF-8,Utf16=on,HugeFiles=on,64 bits,2 CPUs Intel(R) Xeon(R) CPU @ 2.30GHz (306F0),ASM,AES-NI)\n",
            "\n",
            "Scanning the drive for archives:\n",
            "  0M Scan\b\b\b\b\b\b\b\b\b         \b\b\b\b\b\b\b\b\b1 file, 26406301 bytes (26 MiB)\n",
            "\n",
            "Extracting archive: ai.stackexchange.com.7z\n",
            "--\n",
            "Path = ai.stackexchange.com.7z\n",
            "Type = 7z\n",
            "Physical Size = 26406301\n",
            "Headers Size = 318\n",
            "Method = BZip2\n",
            "Solid = +\n",
            "Blocks = 2\n",
            "\n",
            "  0%\b\b\b\b    \b\b\b\b  7% 1 - Comments.xml\b\b\b\b\b\b\b\b\b\b\b\b\b\b\b\b\b\b\b\b\b                     \b\b\b\b\b\b\b\b\b\b\b\b\b\b\b\b\b\b\b\b\b 13% 2 - PostHistory.xml\b\b\b\b\b\b\b\b\b\b\b\b\b\b\b\b\b\b\b\b\b\b\b\b                        \b\b\b\b\b\b\b\b\b\b\b\b\b\b\b\b\b\b\b\b\b\b\b\b 20% 2 - PostHistory.xml\b\b\b\b\b\b\b\b\b\b\b\b\b\b\b\b\b\b\b\b\b\b\b\b                        \b\b\b\b\b\b\b\b\b\b\b\b\b\b\b\b\b\b\b\b\b\b\b\b 26% 2 - PostHistory.xml\b\b\b\b\b\b\b\b\b\b\b\b\b\b\b\b\b\b\b\b\b\b\b\b                        \b\b\b\b\b\b\b\b\b\b\b\b\b\b\b\b\b\b\b\b\b\b\b\b 33% 2 - PostHistory.xml\b\b\b\b\b\b\b\b\b\b\b\b\b\b\b\b\b\b\b\b\b\b\b\b                        \b\b\b\b\b\b\b\b\b\b\b\b\b\b\b\b\b\b\b\b\b\b\b\b 39% 2 - PostHistory.xml\b\b\b\b\b\b\b\b\b\b\b\b\b\b\b\b\b\b\b\b\b\b\b\b                        \b\b\b\b\b\b\b\b\b\b\b\b\b\b\b\b\b\b\b\b\b\b\b\b 46% 2 - PostHistory.xml\b\b\b\b\b\b\b\b\b\b\b\b\b\b\b\b\b\b\b\b\b\b\b\b                        \b\b\b\b\b\b\b\b\b\b\b\b\b\b\b\b\b\b\b\b\b\b\b\b 53% 2 - PostHistory.xml\b\b\b\b\b\b\b\b\b\b\b\b\b\b\b\b\b\b\b\b\b\b\b\b                        \b\b\b\b\b\b\b\b\b\b\b\b\b\b\b\b\b\b\b\b\b\b\b\b 60% 4 - Posts.xml\b\b\b\b\b\b\b\b\b\b\b\b\b\b\b\b\b\b                  \b\b\b\b\b\b\b\b\b\b\b\b\b\b\b\b\b\b 66% 4 - Posts.xml\b\b\b\b\b\b\b\b\b\b\b\b\b\b\b\b\b\b                  \b\b\b\b\b\b\b\b\b\b\b\b\b\b\b\b\b\b 72% 4 - Posts.xml\b\b\b\b\b\b\b\b\b\b\b\b\b\b\b\b\b\b                  \b\b\b\b\b\b\b\b\b\b\b\b\b\b\b\b\b\b 79% 4 - Posts.xml\b\b\b\b\b\b\b\b\b\b\b\b\b\b\b\b\b\b                  \b\b\b\b\b\b\b\b\b\b\b\b\b\b\b\b\b\b 85% 6 - Users.xml\b\b\b\b\b\b\b\b\b\b\b\b\b\b\b\b\b\b                  \b\b\b\b\b\b\b\b\b\b\b\b\b\b\b\b\b\b 91% 6 - Users.xml\b\b\b\b\b\b\b\b\b\b\b\b\b\b\b\b\b\b                  \b\b\b\b\b\b\b\b\b\b\b\b\b\b\b\b\b\b 99% 7 - Votes.xml\b\b\b\b\b\b\b\b\b\b\b\b\b\b\b\b\b\b                  \b\b\b\b\b\b\b\b\b\b\b\b\b\b\b\b\b\bEverything is Ok\n",
            "\n",
            "Files: 8\n",
            "Size:       151876797\n",
            "Compressed: 26406301\n"
          ]
        }
      ]
    },
    {
      "cell_type": "code",
      "metadata": {
        "colab": {
          "base_uri": "https://localhost:8080/"
        },
        "id": "gzXRsM43RxSL",
        "outputId": "c6711a42-2c75-496c-eff1-59c2d2ff8d24"
      },
      "source": [
        "%cd /content/"
      ],
      "execution_count": null,
      "outputs": [
        {
          "output_type": "stream",
          "name": "stdout",
          "text": [
            "/content\n"
          ]
        }
      ]
    },
    {
      "cell_type": "code",
      "metadata": {
        "colab": {
          "base_uri": "https://localhost:8080/",
          "height": 35
        },
        "id": "wLXZQSTzR4fB",
        "outputId": "d5bd41ee-1779-44a3-f002-a6a0e4681eab"
      },
      "source": [
        "%pwd"
      ],
      "execution_count": null,
      "outputs": [
        {
          "output_type": "execute_result",
          "data": {
            "application/vnd.google.colaboratory.intrinsic+json": {
              "type": "string"
            },
            "text/plain": [
              "'/content'"
            ]
          },
          "metadata": {},
          "execution_count": 6
        }
      ]
    },
    {
      "cell_type": "code",
      "metadata": {
        "id": "UnGQSWyVRqkt"
      },
      "source": [
        "%mkdir dataset"
      ],
      "execution_count": null,
      "outputs": []
    },
    {
      "cell_type": "code",
      "metadata": {
        "id": "m-P9hUeiR-Z2"
      },
      "source": [
        "%mv *.xml /content/dataset"
      ],
      "execution_count": null,
      "outputs": []
    },
    {
      "cell_type": "code",
      "metadata": {
        "colab": {
          "base_uri": "https://localhost:8080/"
        },
        "id": "CYWUz88tSFW4",
        "outputId": "d13f10c9-87bd-493b-c076-86fbb029cc40"
      },
      "source": [
        "pip install pandas_read_xml"
      ],
      "execution_count": null,
      "outputs": [
        {
          "output_type": "stream",
          "name": "stdout",
          "text": [
            "Collecting pandas_read_xml\n",
            "  Downloading pandas_read_xml-0.3.1-py3-none-any.whl (6.3 kB)\n",
            "Collecting distlib\n",
            "  Downloading distlib-0.3.3-py2.py3-none-any.whl (496 kB)\n",
            "\u001b[K     |████████████████████████████████| 496 kB 2.3 MB/s \n",
            "\u001b[?25hRequirement already satisfied: requests in /usr/local/lib/python3.7/dist-packages (from pandas_read_xml) (2.23.0)\n",
            "Requirement already satisfied: pandas in /usr/local/lib/python3.7/dist-packages (from pandas_read_xml) (1.1.5)\n",
            "Requirement already satisfied: pyarrow in /usr/local/lib/python3.7/dist-packages (from pandas_read_xml) (3.0.0)\n",
            "Collecting xmltodict\n",
            "  Downloading xmltodict-0.12.0-py2.py3-none-any.whl (9.2 kB)\n",
            "Collecting zipfile36\n",
            "  Downloading zipfile36-0.1.3-py3-none-any.whl (20 kB)\n",
            "Collecting urllib3>=1.26.3\n",
            "  Downloading urllib3-1.26.7-py2.py3-none-any.whl (138 kB)\n",
            "\u001b[K     |████████████████████████████████| 138 kB 43.7 MB/s \n",
            "\u001b[?25hRequirement already satisfied: numpy>=1.15.4 in /usr/local/lib/python3.7/dist-packages (from pandas->pandas_read_xml) (1.19.5)\n",
            "Requirement already satisfied: python-dateutil>=2.7.3 in /usr/local/lib/python3.7/dist-packages (from pandas->pandas_read_xml) (2.8.2)\n",
            "Requirement already satisfied: pytz>=2017.2 in /usr/local/lib/python3.7/dist-packages (from pandas->pandas_read_xml) (2018.9)\n",
            "Requirement already satisfied: six>=1.5 in /usr/local/lib/python3.7/dist-packages (from python-dateutil>=2.7.3->pandas->pandas_read_xml) (1.15.0)\n",
            "Requirement already satisfied: idna<3,>=2.5 in /usr/local/lib/python3.7/dist-packages (from requests->pandas_read_xml) (2.10)\n",
            "Requirement already satisfied: chardet<4,>=3.0.2 in /usr/local/lib/python3.7/dist-packages (from requests->pandas_read_xml) (3.0.4)\n",
            "Requirement already satisfied: certifi>=2017.4.17 in /usr/local/lib/python3.7/dist-packages (from requests->pandas_read_xml) (2021.10.8)\n",
            "Collecting requests\n",
            "  Downloading requests-2.26.0-py2.py3-none-any.whl (62 kB)\n",
            "\u001b[K     |████████████████████████████████| 62 kB 810 kB/s \n",
            "\u001b[?25hRequirement already satisfied: charset-normalizer~=2.0.0 in /usr/local/lib/python3.7/dist-packages (from requests->pandas_read_xml) (2.0.7)\n",
            "Installing collected packages: urllib3, zipfile36, xmltodict, requests, distlib, pandas-read-xml\n",
            "  Attempting uninstall: urllib3\n",
            "    Found existing installation: urllib3 1.24.3\n",
            "    Uninstalling urllib3-1.24.3:\n",
            "      Successfully uninstalled urllib3-1.24.3\n",
            "  Attempting uninstall: requests\n",
            "    Found existing installation: requests 2.23.0\n",
            "    Uninstalling requests-2.23.0:\n",
            "      Successfully uninstalled requests-2.23.0\n",
            "\u001b[31mERROR: pip's dependency resolver does not currently take into account all the packages that are installed. This behaviour is the source of the following dependency conflicts.\n",
            "google-colab 1.0.0 requires requests~=2.23.0, but you have requests 2.26.0 which is incompatible.\n",
            "datascience 0.10.6 requires folium==0.2.1, but you have folium 0.8.3 which is incompatible.\u001b[0m\n",
            "Successfully installed distlib-0.3.3 pandas-read-xml-0.3.1 requests-2.26.0 urllib3-1.26.7 xmltodict-0.12.0 zipfile36-0.1.3\n"
          ]
        }
      ]
    },
    {
      "cell_type": "code",
      "metadata": {
        "id": "aDIlRiRNY-tw"
      },
      "source": [
        "import pandas_read_xml as pdx\n",
        "from pandas_read_xml import flatten, fully_flatten, auto_separate_tables"
      ],
      "execution_count": null,
      "outputs": []
    },
    {
      "cell_type": "code",
      "metadata": {
        "id": "s_6ADkbqZFj0"
      },
      "source": [
        "df = pdx.read_xml(\"/content/dataset/Comments.xml\")"
      ],
      "execution_count": null,
      "outputs": []
    },
    {
      "cell_type": "code",
      "metadata": {
        "colab": {
          "base_uri": "https://localhost:8080/",
          "height": 80
        },
        "id": "2svHQ4mxZJ3o",
        "outputId": "8761d51e-80ba-445e-8516-5d767a4de2cc"
      },
      "source": [
        "df.head()"
      ],
      "execution_count": null,
      "outputs": [
        {
          "output_type": "execute_result",
          "data": {
            "text/html": [
              "<div>\n",
              "<style scoped>\n",
              "    .dataframe tbody tr th:only-of-type {\n",
              "        vertical-align: middle;\n",
              "    }\n",
              "\n",
              "    .dataframe tbody tr th {\n",
              "        vertical-align: top;\n",
              "    }\n",
              "\n",
              "    .dataframe thead th {\n",
              "        text-align: right;\n",
              "    }\n",
              "</style>\n",
              "<table border=\"1\" class=\"dataframe\">\n",
              "  <thead>\n",
              "    <tr style=\"text-align: right;\">\n",
              "      <th></th>\n",
              "      <th>comments</th>\n",
              "    </tr>\n",
              "  </thead>\n",
              "  <tbody>\n",
              "    <tr>\n",
              "      <th>0</th>\n",
              "      <td>{'row': [{'@Id': '9', '@PostId': '22', '@Score...</td>\n",
              "    </tr>\n",
              "  </tbody>\n",
              "</table>\n",
              "</div>"
            ],
            "text/plain": [
              "                                            comments\n",
              "0  {'row': [{'@Id': '9', '@PostId': '22', '@Score..."
            ]
          },
          "metadata": {},
          "execution_count": 15
        }
      ]
    },
    {
      "cell_type": "code",
      "metadata": {
        "colab": {
          "base_uri": "https://localhost:8080/",
          "height": 80
        },
        "id": "HeUjTPcqZTIy",
        "outputId": "3c5558be-a525-4732-c008-fd6736c862ab"
      },
      "source": [
        "# See what \"flatten\" does\n",
        " \n",
        "df = df.pipe(flatten)\n",
        " \n",
        "df"
      ],
      "execution_count": null,
      "outputs": [
        {
          "output_type": "execute_result",
          "data": {
            "text/html": [
              "<div>\n",
              "<style scoped>\n",
              "    .dataframe tbody tr th:only-of-type {\n",
              "        vertical-align: middle;\n",
              "    }\n",
              "\n",
              "    .dataframe tbody tr th {\n",
              "        vertical-align: top;\n",
              "    }\n",
              "\n",
              "    .dataframe thead th {\n",
              "        text-align: right;\n",
              "    }\n",
              "</style>\n",
              "<table border=\"1\" class=\"dataframe\">\n",
              "  <thead>\n",
              "    <tr style=\"text-align: right;\">\n",
              "      <th></th>\n",
              "      <th>comments|row</th>\n",
              "    </tr>\n",
              "  </thead>\n",
              "  <tbody>\n",
              "    <tr>\n",
              "      <th>0</th>\n",
              "      <td>[{'@Id': '9', '@PostId': '22', '@Score': '1', ...</td>\n",
              "    </tr>\n",
              "  </tbody>\n",
              "</table>\n",
              "</div>"
            ],
            "text/plain": [
              "                                        comments|row\n",
              "0  [{'@Id': '9', '@PostId': '22', '@Score': '1', ..."
            ]
          },
          "metadata": {},
          "execution_count": 16
        }
      ]
    },
    {
      "cell_type": "code",
      "metadata": {
        "colab": {
          "base_uri": "https://localhost:8080/",
          "height": 419
        },
        "id": "sj7aijYzZXBV",
        "outputId": "68740cb2-0b46-4b83-9b1c-3843418d828f"
      },
      "source": [
        "# See what another \"flatten\" does\n",
        " \n",
        "df = df.pipe(flatten)\n",
        " \n",
        "df"
      ],
      "execution_count": null,
      "outputs": [
        {
          "output_type": "execute_result",
          "data": {
            "text/html": [
              "<div>\n",
              "<style scoped>\n",
              "    .dataframe tbody tr th:only-of-type {\n",
              "        vertical-align: middle;\n",
              "    }\n",
              "\n",
              "    .dataframe tbody tr th {\n",
              "        vertical-align: top;\n",
              "    }\n",
              "\n",
              "    .dataframe thead th {\n",
              "        text-align: right;\n",
              "    }\n",
              "</style>\n",
              "<table border=\"1\" class=\"dataframe\">\n",
              "  <thead>\n",
              "    <tr style=\"text-align: right;\">\n",
              "      <th></th>\n",
              "      <th>comments|row</th>\n",
              "    </tr>\n",
              "  </thead>\n",
              "  <tbody>\n",
              "    <tr>\n",
              "      <th>0</th>\n",
              "      <td>{'@Id': '9', '@PostId': '22', '@Score': '1', '...</td>\n",
              "    </tr>\n",
              "    <tr>\n",
              "      <th>1</th>\n",
              "      <td>{'@Id': '10', '@PostId': '15', '@Score': '6', ...</td>\n",
              "    </tr>\n",
              "    <tr>\n",
              "      <th>2</th>\n",
              "      <td>{'@Id': '11', '@PostId': '22', '@Score': '0', ...</td>\n",
              "    </tr>\n",
              "    <tr>\n",
              "      <th>3</th>\n",
              "      <td>{'@Id': '14', '@PostId': '41', '@Score': '1', ...</td>\n",
              "    </tr>\n",
              "    <tr>\n",
              "      <th>4</th>\n",
              "      <td>{'@Id': '24', '@PostId': '45', '@Score': '0', ...</td>\n",
              "    </tr>\n",
              "    <tr>\n",
              "      <th>...</th>\n",
              "      <td>...</td>\n",
              "    </tr>\n",
              "    <tr>\n",
              "      <th>21326</th>\n",
              "      <td>{'@Id': '47975', '@PostId': '30394', '@Score':...</td>\n",
              "    </tr>\n",
              "    <tr>\n",
              "      <th>21327</th>\n",
              "      <td>{'@Id': '47976', '@PostId': '31553', '@Score':...</td>\n",
              "    </tr>\n",
              "    <tr>\n",
              "      <th>21328</th>\n",
              "      <td>{'@Id': '47977', '@PostId': '31553', '@Score':...</td>\n",
              "    </tr>\n",
              "    <tr>\n",
              "      <th>21329</th>\n",
              "      <td>{'@Id': '47978', '@PostId': '31553', '@Score':...</td>\n",
              "    </tr>\n",
              "    <tr>\n",
              "      <th>21330</th>\n",
              "      <td>{'@Id': '47979', '@PostId': '31553', '@Score':...</td>\n",
              "    </tr>\n",
              "  </tbody>\n",
              "</table>\n",
              "<p>21331 rows × 1 columns</p>\n",
              "</div>"
            ],
            "text/plain": [
              "                                            comments|row\n",
              "0      {'@Id': '9', '@PostId': '22', '@Score': '1', '...\n",
              "1      {'@Id': '10', '@PostId': '15', '@Score': '6', ...\n",
              "2      {'@Id': '11', '@PostId': '22', '@Score': '0', ...\n",
              "3      {'@Id': '14', '@PostId': '41', '@Score': '1', ...\n",
              "4      {'@Id': '24', '@PostId': '45', '@Score': '0', ...\n",
              "...                                                  ...\n",
              "21326  {'@Id': '47975', '@PostId': '30394', '@Score':...\n",
              "21327  {'@Id': '47976', '@PostId': '31553', '@Score':...\n",
              "21328  {'@Id': '47977', '@PostId': '31553', '@Score':...\n",
              "21329  {'@Id': '47978', '@PostId': '31553', '@Score':...\n",
              "21330  {'@Id': '47979', '@PostId': '31553', '@Score':...\n",
              "\n",
              "[21331 rows x 1 columns]"
            ]
          },
          "metadata": {},
          "execution_count": 17
        }
      ]
    },
    {
      "cell_type": "code",
      "metadata": {
        "colab": {
          "base_uri": "https://localhost:8080/",
          "height": 745
        },
        "id": "-2p8sCLJZbV9",
        "outputId": "fe37c36a-125c-4b27-8b9b-3118daef4981"
      },
      "source": [
        "# See what another \"flatten\" does\n",
        " \n",
        "df = df.pipe(flatten)\n",
        " \n",
        "df"
      ],
      "execution_count": null,
      "outputs": [
        {
          "output_type": "execute_result",
          "data": {
            "text/html": [
              "<div>\n",
              "<style scoped>\n",
              "    .dataframe tbody tr th:only-of-type {\n",
              "        vertical-align: middle;\n",
              "    }\n",
              "\n",
              "    .dataframe tbody tr th {\n",
              "        vertical-align: top;\n",
              "    }\n",
              "\n",
              "    .dataframe thead th {\n",
              "        text-align: right;\n",
              "    }\n",
              "</style>\n",
              "<table border=\"1\" class=\"dataframe\">\n",
              "  <thead>\n",
              "    <tr style=\"text-align: right;\">\n",
              "      <th></th>\n",
              "      <th>comments|row|@Id</th>\n",
              "      <th>comments|row|@PostId</th>\n",
              "      <th>comments|row|@Score</th>\n",
              "      <th>comments|row|@Text</th>\n",
              "      <th>comments|row|@CreationDate</th>\n",
              "      <th>comments|row|@UserId</th>\n",
              "      <th>comments|row|@ContentLicense</th>\n",
              "      <th>comments|row|@UserDisplayName</th>\n",
              "    </tr>\n",
              "  </thead>\n",
              "  <tbody>\n",
              "    <tr>\n",
              "      <th>0</th>\n",
              "      <td>9</td>\n",
              "      <td>22</td>\n",
              "      <td>1</td>\n",
              "      <td>I think the AI Box is actually a bad introduct...</td>\n",
              "      <td>2016-08-02T16:00:04.297</td>\n",
              "      <td>10</td>\n",
              "      <td>CC BY-SA 3.0</td>\n",
              "      <td>NaN</td>\n",
              "    </tr>\n",
              "    <tr>\n",
              "      <th>1</th>\n",
              "      <td>10</td>\n",
              "      <td>15</td>\n",
              "      <td>6</td>\n",
              "      <td>Definitely requires a statistical approach wit...</td>\n",
              "      <td>2016-08-02T16:01:10.020</td>\n",
              "      <td>38</td>\n",
              "      <td>CC BY-SA 3.0</td>\n",
              "      <td>NaN</td>\n",
              "    </tr>\n",
              "    <tr>\n",
              "      <th>2</th>\n",
              "      <td>11</td>\n",
              "      <td>22</td>\n",
              "      <td>0</td>\n",
              "      <td>Fair enough.  I just happen to be more familia...</td>\n",
              "      <td>2016-08-02T16:04:37.090</td>\n",
              "      <td>33</td>\n",
              "      <td>CC BY-SA 3.0</td>\n",
              "      <td>NaN</td>\n",
              "    </tr>\n",
              "    <tr>\n",
              "      <th>3</th>\n",
              "      <td>14</td>\n",
              "      <td>41</td>\n",
              "      <td>1</td>\n",
              "      <td>If by IQ you mean pattern-finding (which is ge...</td>\n",
              "      <td>2016-08-02T16:14:28.373</td>\n",
              "      <td>47</td>\n",
              "      <td>CC BY-SA 3.0</td>\n",
              "      <td>NaN</td>\n",
              "    </tr>\n",
              "    <tr>\n",
              "      <th>4</th>\n",
              "      <td>24</td>\n",
              "      <td>45</td>\n",
              "      <td>0</td>\n",
              "      <td>Regarding Asimov's laws, AFAIK, [the zeroth la...</td>\n",
              "      <td>2016-08-02T16:49:20.210</td>\n",
              "      <td>71</td>\n",
              "      <td>CC BY-SA 3.0</td>\n",
              "      <td>NaN</td>\n",
              "    </tr>\n",
              "    <tr>\n",
              "      <th>...</th>\n",
              "      <td>...</td>\n",
              "      <td>...</td>\n",
              "      <td>...</td>\n",
              "      <td>...</td>\n",
              "      <td>...</td>\n",
              "      <td>...</td>\n",
              "      <td>...</td>\n",
              "      <td>...</td>\n",
              "    </tr>\n",
              "    <tr>\n",
              "      <th>21326</th>\n",
              "      <td>47975</td>\n",
              "      <td>30394</td>\n",
              "      <td>0</td>\n",
              "      <td>There is no reason to accumulate statistics du...</td>\n",
              "      <td>2021-09-04T15:59:52.893</td>\n",
              "      <td>49455</td>\n",
              "      <td>CC BY-SA 4.0</td>\n",
              "      <td>NaN</td>\n",
              "    </tr>\n",
              "    <tr>\n",
              "      <th>21327</th>\n",
              "      <td>47976</td>\n",
              "      <td>31553</td>\n",
              "      <td>0</td>\n",
              "      <td>What do you want to achieve?</td>\n",
              "      <td>2021-09-04T21:16:39.847</td>\n",
              "      <td>42664</td>\n",
              "      <td>CC BY-SA 4.0</td>\n",
              "      <td>NaN</td>\n",
              "    </tr>\n",
              "    <tr>\n",
              "      <th>21328</th>\n",
              "      <td>47977</td>\n",
              "      <td>31553</td>\n",
              "      <td>0</td>\n",
              "      <td>@norbertk network attack detection</td>\n",
              "      <td>2021-09-04T21:19:38.957</td>\n",
              "      <td>48264</td>\n",
              "      <td>CC BY-SA 4.0</td>\n",
              "      <td>NaN</td>\n",
              "    </tr>\n",
              "    <tr>\n",
              "      <th>21329</th>\n",
              "      <td>47978</td>\n",
              "      <td>31553</td>\n",
              "      <td>0</td>\n",
              "      <td>Could you elaborate a bit? The question is ver...</td>\n",
              "      <td>2021-09-04T21:24:32.850</td>\n",
              "      <td>42664</td>\n",
              "      <td>CC BY-SA 4.0</td>\n",
              "      <td>NaN</td>\n",
              "    </tr>\n",
              "    <tr>\n",
              "      <th>21330</th>\n",
              "      <td>47979</td>\n",
              "      <td>31553</td>\n",
              "      <td>0</td>\n",
              "      <td>Please clarify your specific problem or provid...</td>\n",
              "      <td>2021-09-05T03:52:26.400</td>\n",
              "      <td>-1</td>\n",
              "      <td>CC BY-SA 4.0</td>\n",
              "      <td>NaN</td>\n",
              "    </tr>\n",
              "  </tbody>\n",
              "</table>\n",
              "<p>21331 rows × 8 columns</p>\n",
              "</div>"
            ],
            "text/plain": [
              "      comments|row|@Id  ... comments|row|@UserDisplayName\n",
              "0                    9  ...                           NaN\n",
              "1                   10  ...                           NaN\n",
              "2                   11  ...                           NaN\n",
              "3                   14  ...                           NaN\n",
              "4                   24  ...                           NaN\n",
              "...                ...  ...                           ...\n",
              "21326            47975  ...                           NaN\n",
              "21327            47976  ...                           NaN\n",
              "21328            47977  ...                           NaN\n",
              "21329            47978  ...                           NaN\n",
              "21330            47979  ...                           NaN\n",
              "\n",
              "[21331 rows x 8 columns]"
            ]
          },
          "metadata": {},
          "execution_count": 18
        }
      ]
    },
    {
      "cell_type": "code",
      "metadata": {
        "colab": {
          "base_uri": "https://localhost:8080/"
        },
        "id": "BFCv6rlpZzVd",
        "outputId": "53f97674-d531-4385-9e3d-d357d54c5936"
      },
      "source": [
        "df.columns"
      ],
      "execution_count": null,
      "outputs": [
        {
          "output_type": "execute_result",
          "data": {
            "text/plain": [
              "Index(['comments|row|@Id', 'comments|row|@PostId', 'comments|row|@Score',\n",
              "       'comments|row|@Text', 'comments|row|@CreationDate',\n",
              "       'comments|row|@UserId', 'comments|row|@ContentLicense',\n",
              "       'comments|row|@UserDisplayName'],\n",
              "      dtype='object')"
            ]
          },
          "metadata": {},
          "execution_count": 10
        }
      ]
    },
    {
      "cell_type": "code",
      "metadata": {
        "colab": {
          "base_uri": "https://localhost:8080/"
        },
        "id": "vyDXO_IHZ9BE",
        "outputId": "692c15a2-e9d2-4b58-ba70-1c81cec01cc0"
      },
      "source": [
        "list(df[\"comments|row|@Text\"])"
      ],
      "execution_count": null,
      "outputs": [
        {
          "output_type": "execute_result",
          "data": {
            "text/plain": [
              "['I think the AI Box is actually a bad introduction to AI risk; it targets a specific small part of the explanation, which is \"how could anyone ever be convinced to let an AI out of the box?\". To someone who thinks that AI is worth using, they\\'ve already decided it\\'s worth letting out of the box. The Orthogonality Thesis is probably the best place to start, I think.',\n",
              " '@New_Coder, I am not sure about the second FOL sentence. Try forming the sentence: \"Everybody knows what\\'s inside the hatch\" (It could be something like \"for all x, if knows(x) then there exists y such that y is inside the hatch\") and then figuring out how to modify the FOL to fit your second sentence.',\n",
              " \"I think it would help if you could be a little more clear about what exactly you're asking.  Maybe describe the game and what your agent should do, in text form? A lot of people will probably be put off by the need to click through to a video in order to properly evaluate the question.\",\n",
              " \"It's not up to me, see [this](http://meta.ai.stackexchange.com/q/1139/8) and [that](http://meta.ai.stackexchange.com/q/1223/8) meta post, or raise a new one about your question.\",\n",
              " 'Let us [continue this discussion in chat](http://chat.stackexchange.com/rooms/54708/discussion-between-mbomb007-and-amit-maurya).',\n",
              " ...]"
            ]
          },
          "metadata": {},
          "execution_count": 7
        }
      ]
    },
    {
      "cell_type": "code",
      "metadata": {
        "id": "0efyFFM9aF1b"
      },
      "source": [
        "answer_corpus = \" \".join(list(df[\"comments|row|@Text\"]))"
      ],
      "execution_count": null,
      "outputs": []
    },
    {
      "cell_type": "code",
      "metadata": {
        "colab": {
          "base_uri": "https://localhost:8080/"
        },
        "id": "6GauAb5tb2Vs",
        "outputId": "b5d04193-aa74-40bb-88a7-465c045f9d6a"
      },
      "source": [
        "len(answer_corpus)"
      ],
      "execution_count": null,
      "outputs": [
        {
          "output_type": "execute_result",
          "data": {
            "text/plain": [
              "5139703"
            ]
          },
          "metadata": {},
          "execution_count": 18
        }
      ]
    },
    {
      "cell_type": "code",
      "metadata": {
        "colab": {
          "base_uri": "https://localhost:8080/"
        },
        "id": "adFKlKuzb3sZ",
        "outputId": "2577114d-a0e7-4a69-deea-cd4965ab0705"
      },
      "source": [
        "!wget https://s3.eu-central-1.amazonaws.com/deepset.ai-farm-qa/datasets/documents/wiki_gameofthrones_txt.zip"
      ],
      "execution_count": null,
      "outputs": [
        {
          "output_type": "stream",
          "name": "stdout",
          "text": [
            "--2021-11-11 19:32:40--  https://s3.eu-central-1.amazonaws.com/deepset.ai-farm-qa/datasets/documents/wiki_gameofthrones_txt.zip\n",
            "Resolving s3.eu-central-1.amazonaws.com (s3.eu-central-1.amazonaws.com)... 52.219.72.159\n",
            "Connecting to s3.eu-central-1.amazonaws.com (s3.eu-central-1.amazonaws.com)|52.219.72.159|:443... connected.\n",
            "HTTP request sent, awaiting response... 200 OK\n",
            "Length: 1095120 (1.0M) [application/zip]\n",
            "Saving to: ‘wiki_gameofthrones_txt.zip’\n",
            "\n",
            "wiki_gameofthrones_ 100%[===================>]   1.04M  1.47MB/s    in 0.7s    \n",
            "\n",
            "2021-11-11 19:32:42 (1.47 MB/s) - ‘wiki_gameofthrones_txt.zip’ saved [1095120/1095120]\n",
            "\n"
          ]
        }
      ]
    },
    {
      "cell_type": "code",
      "metadata": {
        "id": "efhHcCoffOND"
      },
      "source": [
        "!unzip /content/wiki_gameofthrones_txt.zip"
      ],
      "execution_count": null,
      "outputs": []
    },
    {
      "cell_type": "code",
      "metadata": {
        "id": "H5IeDU6IfUOn"
      },
      "source": [
        "!rm -r *.txt"
      ],
      "execution_count": null,
      "outputs": []
    },
    {
      "cell_type": "code",
      "metadata": {
        "colab": {
          "base_uri": "https://localhost:8080/"
        },
        "id": "HeDhLeDefggg",
        "outputId": "095be153-0c81-4b08-ac21-0fc7977e4c85"
      },
      "source": [
        "!git clone https://github.com/jina-ai/examples\n"
      ],
      "execution_count": null,
      "outputs": [
        {
          "output_type": "stream",
          "name": "stdout",
          "text": [
            "Cloning into 'examples'...\n",
            "remote: Enumerating objects: 11821, done.\u001b[K\n",
            "remote: Counting objects: 100% (877/877), done.\u001b[K\n",
            "remote: Compressing objects: 100% (425/425), done.\u001b[K\n",
            "remote: Total 11821 (delta 477), reused 771 (delta 431), pack-reused 10944\u001b[K\n",
            "Receiving objects: 100% (11821/11821), 193.79 MiB | 30.73 MiB/s, done.\n",
            "Resolving deltas: 100% (6586/6586), done.\n"
          ]
        }
      ]
    },
    {
      "cell_type": "code",
      "metadata": {
        "colab": {
          "base_uri": "https://localhost:8080/"
        },
        "id": "vsdu81yUf_ia",
        "outputId": "13551124-ef8e-49df-e880-333eb600272e"
      },
      "source": [
        "%cd examples/wikipedia-sentences"
      ],
      "execution_count": null,
      "outputs": [
        {
          "output_type": "stream",
          "name": "stdout",
          "text": [
            "/content/examples/wikipedia-sentences\n"
          ]
        }
      ]
    },
    {
      "cell_type": "code",
      "metadata": {
        "colab": {
          "base_uri": "https://localhost:8080/"
        },
        "id": "svVb0BL1gka2",
        "outputId": "465349de-62b9-467f-fc0b-827ed575e128"
      },
      "source": [
        "!pwd"
      ],
      "execution_count": null,
      "outputs": [
        {
          "output_type": "stream",
          "name": "stdout",
          "text": [
            "/content/examples/wikipedia-sentences\n"
          ]
        }
      ]
    },
    {
      "cell_type": "code",
      "metadata": {
        "colab": {
          "base_uri": "https://localhost:8080/"
        },
        "id": "glwSBpQ2hfHF",
        "outputId": "69405851-9d5b-4b96-eb69-aeab3326d63a"
      },
      "source": [
        "%cd /content/"
      ],
      "execution_count": null,
      "outputs": [
        {
          "output_type": "stream",
          "name": "stdout",
          "text": [
            "/content\n"
          ]
        }
      ]
    },
    {
      "cell_type": "markdown",
      "metadata": {
        "id": "coiP7y7HklOK"
      },
      "source": [
        "# Setup required enviorment "
      ]
    },
    {
      "cell_type": "code",
      "metadata": {
        "id": "8m3Q0GVvkqmq"
      },
      "source": [
        "!pip install farm-haystack\n",
        "\n",
        "# Install the latest master of Haystack\n",
        "!pip install grpcio-tools==1.34.1\n",
        "!pip install git+https://github.com/deepset-ai/haystack.git\n",
        "!pip install contractions autocorrect"
      ],
      "execution_count": null,
      "outputs": []
    },
    {
      "cell_type": "markdown",
      "metadata": {
        "id": "mzg5ec2Ja9DW"
      },
      "source": [
        "# Data Preparation "
      ]
    },
    {
      "cell_type": "code",
      "metadata": {
        "id": "WLjnRFR6khLz",
        "colab": {
          "base_uri": "https://localhost:8080/"
        },
        "outputId": "02e77c67-2d6e-4ed8-8eb4-08c973ce2fe8"
      },
      "source": [
        "from haystack.document_stores import ElasticsearchDocumentStore\n",
        "from haystack.nodes import EmbeddingRetriever\n",
        "import pandas as pd\n",
        "import requests\n",
        "\n",
        "\n",
        "import time as time\n",
        "import numpy as np\n",
        "import pandas as pd\n",
        "import gc\n",
        "\n",
        "# Text librairies\n",
        "import re\n",
        "from bs4 import BeautifulSoup\n",
        "import nltk\n",
        "from nltk.tokenize import ToktokTokenizer\n",
        "from nltk.stem.wordnet import WordNetLemmatizer\n",
        "from nltk.stem import PorterStemmer\n",
        "from nltk.corpus import wordnet\n",
        "from nltk.corpus import stopwords\n",
        "from nltk.tag.util import untag\n",
        "import contractions\n",
        "\n",
        "# import pycontractions \n",
        "# Alternative better package for removing contractions\n",
        "from autocorrect import Speller\n",
        "\n",
        "# Recommended: Start Elasticsearch using Docker via the Haystack utility function\n",
        "from haystack.utils import launch_es\n",
        "launch_es()\n",
        "\n",
        "\n",
        "import spacy\n",
        "EN = spacy.load('en_core_web_sm')\n"
      ],
      "execution_count": null,
      "outputs": [
        {
          "output_type": "stream",
          "name": "stderr",
          "text": [
            "/usr/local/lib/python3.7/dist-packages/ray/autoscaler/_private/cli_logger.py:61: FutureWarning: Not all Ray CLI dependencies were found. In Ray 1.4+, the Ray CLI, autoscaler, and dashboard will only be usable via `pip install 'ray[default]'`. Please update your install command.\n",
            "  \"update your install command.\", FutureWarning)\n",
            "WARNING - haystack.utils.doc_store -  Tried to start Elasticsearch through Docker but this failed. It is likely that there is already an existing Elasticsearch instance running. \n"
          ]
        }
      ]
    },
    {
      "cell_type": "code",
      "metadata": {
        "id": "otwWVu9rRuCI"
      },
      "source": [
        "df = pd.read_csv(\"/content/drive/MyDrive/stackoverflow-data/StackOverflow Data/Original_data.csv\",nrows=25000)"
      ],
      "execution_count": null,
      "outputs": []
    },
    {
      "cell_type": "code",
      "metadata": {
        "colab": {
          "base_uri": "https://localhost:8080/",
          "height": 340
        },
        "id": "G1k8OWRYSIbv",
        "outputId": "efc5e6b7-acb7-47ec-fe81-05e87435b0c0"
      },
      "source": [
        "df.head()"
      ],
      "execution_count": null,
      "outputs": [
        {
          "output_type": "execute_result",
          "data": {
            "text/html": [
              "<div>\n",
              "<style scoped>\n",
              "    .dataframe tbody tr th:only-of-type {\n",
              "        vertical-align: middle;\n",
              "    }\n",
              "\n",
              "    .dataframe tbody tr th {\n",
              "        vertical-align: top;\n",
              "    }\n",
              "\n",
              "    .dataframe thead th {\n",
              "        text-align: right;\n",
              "    }\n",
              "</style>\n",
              "<table border=\"1\" class=\"dataframe\">\n",
              "  <thead>\n",
              "    <tr style=\"text-align: right;\">\n",
              "      <th></th>\n",
              "      <th>id</th>\n",
              "      <th>title</th>\n",
              "      <th>body</th>\n",
              "      <th>tags</th>\n",
              "      <th>answers</th>\n",
              "      <th>score</th>\n",
              "    </tr>\n",
              "  </thead>\n",
              "  <tbody>\n",
              "    <tr>\n",
              "      <th>0</th>\n",
              "      <td>32490721</td>\n",
              "      <td>What does the /= operator mean in Python?</td>\n",
              "      <td>&lt;p&gt;What does the operator &lt;code&gt;/=&lt;/code&gt; (slash equals) mean in Python? &lt;/p...</td>\n",
              "      <td>python|syntax</td>\n",
              "      <td>&lt;p&gt;It's an assignment operator shorthand for &lt;code&gt;/&lt;/code&gt; and &lt;code&gt;=&lt;/cod...</td>\n",
              "      <td>35</td>\n",
              "    </tr>\n",
              "    <tr>\n",
              "      <th>1</th>\n",
              "      <td>16784162</td>\n",
              "      <td>What is a solid example of something that can be done with list comprehensio...</td>\n",
              "      <td>&lt;p&gt;I've heard from many Pythonists that they prefer list comprehensions beca...</td>\n",
              "      <td>python|haskell|clojure|functional-programming|list-comprehension</td>\n",
              "      <td>&lt;p&gt;As has been said, everything you can do with list comprehensions can be d...</td>\n",
              "      <td>20</td>\n",
              "    </tr>\n",
              "    <tr>\n",
              "      <th>2</th>\n",
              "      <td>2763750</td>\n",
              "      <td>How to replace only part of the match with python re.sub</td>\n",
              "      <td>&lt;p&gt;I need to match two cases by one reg expression and do replacement&lt;/p&gt;\\r\\...</td>\n",
              "      <td>python|regex</td>\n",
              "      <td>&lt;pre&gt;&lt;code&gt; re.sub(r'(?:_a)?\\.([^.]*)$', r'_suff.\\1', \"long.file.name.jpg\")\\...</td>\n",
              "      <td>22</td>\n",
              "    </tr>\n",
              "    <tr>\n",
              "      <th>3</th>\n",
              "      <td>7931726</td>\n",
              "      <td>Are datagrams always received completely?</td>\n",
              "      <td>&lt;p&gt;Most datagram receiving functions such as c's recv or read, javas Datagra...</td>\n",
              "      <td>java|python|c|udp|datagram</td>\n",
              "      <td>&lt;p&gt;UDP datagrams cannot be partially delivered¹; they are delivered as-is or...</td>\n",
              "      <td>14</td>\n",
              "    </tr>\n",
              "    <tr>\n",
              "      <th>4</th>\n",
              "      <td>3838329</td>\n",
              "      <td>How can I check if two segments intersect?</td>\n",
              "      <td>&lt;p&gt;How can I check if 2 segments intersect?&lt;/p&gt;\\r\\n\\r\\n&lt;p&gt;I've the following...</td>\n",
              "      <td>python|math</td>\n",
              "      <td>&lt;p&gt;The equation of a line is:&lt;/p&gt;\\r\\n\\r\\n&lt;pre&gt;&lt;code&gt;f(x) = A*x + b = y\\r\\n&lt;/...</td>\n",
              "      <td>42</td>\n",
              "    </tr>\n",
              "  </tbody>\n",
              "</table>\n",
              "</div>"
            ],
            "text/plain": [
              "         id  ... score\n",
              "0  32490721  ...    35\n",
              "1  16784162  ...    20\n",
              "2   2763750  ...    22\n",
              "3   7931726  ...    14\n",
              "4   3838329  ...    42\n",
              "\n",
              "[5 rows x 6 columns]"
            ]
          },
          "metadata": {},
          "execution_count": 3
        }
      ]
    },
    {
      "cell_type": "markdown",
      "metadata": {
        "id": "NBO2YLTDbFbj"
      },
      "source": [
        "Testing single records\n",
        "> Que\n",
        "\n",
        "> Answers"
      ]
    },
    {
      "cell_type": "code",
      "metadata": {
        "colab": {
          "base_uri": "https://localhost:8080/"
        },
        "id": "PVUcJqNKLjtp",
        "outputId": "41d32887-715d-48fc-c25e-2940207b6620"
      },
      "source": [
        "df.shape"
      ],
      "execution_count": null,
      "outputs": [
        {
          "output_type": "execute_result",
          "data": {
            "text/plain": [
              "(25000, 6)"
            ]
          },
          "metadata": {},
          "execution_count": 4
        }
      ]
    },
    {
      "cell_type": "code",
      "metadata": {
        "colab": {
          "base_uri": "https://localhost:8080/",
          "height": 35
        },
        "id": "MXvbZwlqSr49",
        "outputId": "0e81845f-32f7-4d23-eb10-613f5618e0b9"
      },
      "source": [
        "df[\"title\"][17]"
      ],
      "execution_count": null,
      "outputs": [
        {
          "output_type": "execute_result",
          "data": {
            "application/vnd.google.colaboratory.intrinsic+json": {
              "type": "string"
            },
            "text/plain": [
              "'python: how do i always start from the second row in csv?'"
            ]
          },
          "metadata": {},
          "execution_count": 5
        }
      ]
    },
    {
      "cell_type": "code",
      "metadata": {
        "colab": {
          "base_uri": "https://localhost:8080/",
          "height": 52
        },
        "id": "LV9f_gF9Sr16",
        "outputId": "e0dd4154-7b13-4e6b-dc58-8e622d85b1fc"
      },
      "source": [
        "df[\"answers\"][17]"
      ],
      "execution_count": null,
      "outputs": [
        {
          "output_type": "execute_result",
          "data": {
            "application/vnd.google.colaboratory.intrinsic+json": {
              "type": "string"
            },
            "text/plain": [
              "'<p>Prepend a <code>next(b)</code> (in every recent version of Python; <code>b.next()</code> in older ones) to skip the first row (if <code>b</code> is an iterator; if it is, instead, a list, <code>for row in b[1:]:</code>, of course).</p>'"
            ]
          },
          "metadata": {},
          "execution_count": 6
        }
      ]
    },
    {
      "cell_type": "code",
      "metadata": {
        "colab": {
          "base_uri": "https://localhost:8080/"
        },
        "id": "h9ihW147UHIo",
        "outputId": "209ecdb9-b69f-4b15-9b9f-3bb705a283f1"
      },
      "source": [
        "for i, row in df.iterrows():\n",
        "  print(row.title)\n",
        "  break"
      ],
      "execution_count": null,
      "outputs": [
        {
          "output_type": "stream",
          "name": "stdout",
          "text": [
            "What does the /= operator mean in Python?\n"
          ]
        }
      ]
    },
    {
      "cell_type": "markdown",
      "metadata": {
        "id": "NpVjlprgbTxd"
      },
      "source": [
        "**Filtering Records whose score is more than 0**"
      ]
    },
    {
      "cell_type": "code",
      "metadata": {
        "id": "Zf27wd-1IuLN"
      },
      "source": [
        "df = df[df[\"score\"] >= 0]"
      ],
      "execution_count": null,
      "outputs": []
    },
    {
      "cell_type": "code",
      "metadata": {
        "colab": {
          "base_uri": "https://localhost:8080/",
          "height": 340
        },
        "id": "ZRx9P8IrIuII",
        "outputId": "93f88f1a-9c13-4987-fd1c-5ca27615c0cc"
      },
      "source": [
        "df.head()"
      ],
      "execution_count": null,
      "outputs": [
        {
          "output_type": "execute_result",
          "data": {
            "text/html": [
              "<div>\n",
              "<style scoped>\n",
              "    .dataframe tbody tr th:only-of-type {\n",
              "        vertical-align: middle;\n",
              "    }\n",
              "\n",
              "    .dataframe tbody tr th {\n",
              "        vertical-align: top;\n",
              "    }\n",
              "\n",
              "    .dataframe thead th {\n",
              "        text-align: right;\n",
              "    }\n",
              "</style>\n",
              "<table border=\"1\" class=\"dataframe\">\n",
              "  <thead>\n",
              "    <tr style=\"text-align: right;\">\n",
              "      <th></th>\n",
              "      <th>id</th>\n",
              "      <th>title</th>\n",
              "      <th>body</th>\n",
              "      <th>tags</th>\n",
              "      <th>answers</th>\n",
              "      <th>score</th>\n",
              "    </tr>\n",
              "  </thead>\n",
              "  <tbody>\n",
              "    <tr>\n",
              "      <th>0</th>\n",
              "      <td>32490721</td>\n",
              "      <td>What does the /= operator mean in Python?</td>\n",
              "      <td>&lt;p&gt;What does the operator &lt;code&gt;/=&lt;/code&gt; (slash equals) mean in Python? &lt;/p...</td>\n",
              "      <td>python|syntax</td>\n",
              "      <td>&lt;p&gt;It's an assignment operator shorthand for &lt;code&gt;/&lt;/code&gt; and &lt;code&gt;=&lt;/cod...</td>\n",
              "      <td>35</td>\n",
              "    </tr>\n",
              "    <tr>\n",
              "      <th>1</th>\n",
              "      <td>16784162</td>\n",
              "      <td>What is a solid example of something that can be done with list comprehensio...</td>\n",
              "      <td>&lt;p&gt;I've heard from many Pythonists that they prefer list comprehensions beca...</td>\n",
              "      <td>python|haskell|clojure|functional-programming|list-comprehension</td>\n",
              "      <td>&lt;p&gt;As has been said, everything you can do with list comprehensions can be d...</td>\n",
              "      <td>20</td>\n",
              "    </tr>\n",
              "    <tr>\n",
              "      <th>2</th>\n",
              "      <td>2763750</td>\n",
              "      <td>How to replace only part of the match with python re.sub</td>\n",
              "      <td>&lt;p&gt;I need to match two cases by one reg expression and do replacement&lt;/p&gt;\\r\\...</td>\n",
              "      <td>python|regex</td>\n",
              "      <td>&lt;pre&gt;&lt;code&gt; re.sub(r'(?:_a)?\\.([^.]*)$', r'_suff.\\1', \"long.file.name.jpg\")\\...</td>\n",
              "      <td>22</td>\n",
              "    </tr>\n",
              "    <tr>\n",
              "      <th>3</th>\n",
              "      <td>7931726</td>\n",
              "      <td>Are datagrams always received completely?</td>\n",
              "      <td>&lt;p&gt;Most datagram receiving functions such as c's recv or read, javas Datagra...</td>\n",
              "      <td>java|python|c|udp|datagram</td>\n",
              "      <td>&lt;p&gt;UDP datagrams cannot be partially delivered¹; they are delivered as-is or...</td>\n",
              "      <td>14</td>\n",
              "    </tr>\n",
              "    <tr>\n",
              "      <th>4</th>\n",
              "      <td>3838329</td>\n",
              "      <td>How can I check if two segments intersect?</td>\n",
              "      <td>&lt;p&gt;How can I check if 2 segments intersect?&lt;/p&gt;\\r\\n\\r\\n&lt;p&gt;I've the following...</td>\n",
              "      <td>python|math</td>\n",
              "      <td>&lt;p&gt;The equation of a line is:&lt;/p&gt;\\r\\n\\r\\n&lt;pre&gt;&lt;code&gt;f(x) = A*x + b = y\\r\\n&lt;/...</td>\n",
              "      <td>42</td>\n",
              "    </tr>\n",
              "  </tbody>\n",
              "</table>\n",
              "</div>"
            ],
            "text/plain": [
              "         id  ... score\n",
              "0  32490721  ...    35\n",
              "1  16784162  ...    20\n",
              "2   2763750  ...    22\n",
              "3   7931726  ...    14\n",
              "4   3838329  ...    42\n",
              "\n",
              "[5 rows x 6 columns]"
            ]
          },
          "metadata": {},
          "execution_count": 9
        }
      ]
    },
    {
      "cell_type": "code",
      "metadata": {
        "colab": {
          "base_uri": "https://localhost:8080/"
        },
        "id": "S9T1uqAqIuFN",
        "outputId": "53812bba-580a-4904-9a40-599d2ac65861"
      },
      "source": [
        "df.shape"
      ],
      "execution_count": null,
      "outputs": [
        {
          "output_type": "execute_result",
          "data": {
            "text/plain": [
              "(24777, 6)"
            ]
          },
          "metadata": {},
          "execution_count": 10
        }
      ]
    },
    {
      "cell_type": "code",
      "metadata": {
        "colab": {
          "base_uri": "https://localhost:8080/"
        },
        "id": "1PFTswrdJYi7",
        "outputId": "2f448c20-bfd0-49e2-ce8d-5b7af89e9608"
      },
      "source": [
        " nltk.download('stopwords')"
      ],
      "execution_count": null,
      "outputs": [
        {
          "output_type": "stream",
          "name": "stdout",
          "text": [
            "[nltk_data] Downloading package stopwords to /root/nltk_data...\n",
            "[nltk_data]   Unzipping corpora/stopwords.zip.\n"
          ]
        },
        {
          "output_type": "execute_result",
          "data": {
            "text/plain": [
              "True"
            ]
          },
          "metadata": {},
          "execution_count": 11
        }
      ]
    },
    {
      "cell_type": "markdown",
      "metadata": {
        "id": "RDjSPDWqbdny"
      },
      "source": [
        "**Data Cleaning**"
      ]
    },
    {
      "cell_type": "code",
      "metadata": {
        "id": "yhP08ttSJKZr"
      },
      "source": [
        "spell = Speller()\n",
        "token = ToktokTokenizer()\n",
        "lemmatizer = WordNetLemmatizer()\n",
        "stemmer = PorterStemmer()\n",
        "charac = '!\"#$%&\\'()*+,-./:;<=>?@[\\\\]^_`{|}~0123456789'\n",
        "stop_words = set(stopwords.words(\"english\"))\n",
        "adjective_tag_list = set(['JJ','JJR', 'JJS', 'RBR', 'RBS']) # List of Adjective's tag from nltk package"
      ],
      "execution_count": null,
      "outputs": []
    },
    {
      "cell_type": "code",
      "metadata": {
        "colab": {
          "base_uri": "https://localhost:8080/"
        },
        "id": "aqCk0GWwJhnF",
        "outputId": "2119ef1a-dae2-4632-a265-904c41f7d443"
      },
      "source": [
        "df.columns"
      ],
      "execution_count": null,
      "outputs": [
        {
          "output_type": "execute_result",
          "data": {
            "text/plain": [
              "Index(['id', 'title', 'body', 'tags', 'answers', 'score'], dtype='object')"
            ]
          },
          "metadata": {},
          "execution_count": 13
        }
      ]
    },
    {
      "cell_type": "code",
      "metadata": {
        "colab": {
          "base_uri": "https://localhost:8080/"
        },
        "id": "Wsz8sj5aJVuT",
        "outputId": "a7ad1e65-bd95-4970-ff46-1251840b009e"
      },
      "source": [
        "%%time\n",
        "\n",
        "# Parse question and title then return only the text\n",
        "df['body'] = df['body'].apply(lambda x: BeautifulSoup(x, 'html.parser').get_text())\n",
        "df['title'] = df['title'].apply(lambda x: BeautifulSoup(x, 'html.parser').get_text())\n",
        "df['answers'] = df['answers'].apply(lambda x: BeautifulSoup(x, 'html.parser').get_text())"
      ],
      "execution_count": null,
      "outputs": [
        {
          "output_type": "stream",
          "name": "stdout",
          "text": [
            "CPU times: user 23.3 s, sys: 323 ms, total: 23.6 s\n",
            "Wall time: 23.6 s\n"
          ]
        }
      ]
    },
    {
      "cell_type": "code",
      "metadata": {
        "colab": {
          "base_uri": "https://localhost:8080/",
          "height": 323
        },
        "id": "-TBhD0nNJVrB",
        "outputId": "fa46e6ec-71ca-4851-f305-0df4184d114a"
      },
      "source": [
        "df.head()"
      ],
      "execution_count": null,
      "outputs": [
        {
          "output_type": "execute_result",
          "data": {
            "text/html": [
              "<div>\n",
              "<style scoped>\n",
              "    .dataframe tbody tr th:only-of-type {\n",
              "        vertical-align: middle;\n",
              "    }\n",
              "\n",
              "    .dataframe tbody tr th {\n",
              "        vertical-align: top;\n",
              "    }\n",
              "\n",
              "    .dataframe thead th {\n",
              "        text-align: right;\n",
              "    }\n",
              "</style>\n",
              "<table border=\"1\" class=\"dataframe\">\n",
              "  <thead>\n",
              "    <tr style=\"text-align: right;\">\n",
              "      <th></th>\n",
              "      <th>id</th>\n",
              "      <th>title</th>\n",
              "      <th>body</th>\n",
              "      <th>tags</th>\n",
              "      <th>answers</th>\n",
              "      <th>score</th>\n",
              "    </tr>\n",
              "  </thead>\n",
              "  <tbody>\n",
              "    <tr>\n",
              "      <th>0</th>\n",
              "      <td>32490721</td>\n",
              "      <td>What does the /= operator mean in Python?</td>\n",
              "      <td>What does the operator /= (slash equals) mean in Python? \\nI know |= is a se...</td>\n",
              "      <td>python|syntax</td>\n",
              "      <td>It's an assignment operator shorthand for / and =.\\nExample:\\nx = 12\\r\\n\\nx ...</td>\n",
              "      <td>35</td>\n",
              "    </tr>\n",
              "    <tr>\n",
              "      <th>1</th>\n",
              "      <td>16784162</td>\n",
              "      <td>What is a solid example of something that can be done with list comprehensio...</td>\n",
              "      <td>I've heard from many Pythonists that they prefer list comprehensions because...</td>\n",
              "      <td>python|haskell|clojure|functional-programming|list-comprehension</td>\n",
              "      <td>As has been said, everything you can do with list comprehensions can be desu...</td>\n",
              "      <td>20</td>\n",
              "    </tr>\n",
              "    <tr>\n",
              "      <th>2</th>\n",
              "      <td>2763750</td>\n",
              "      <td>How to replace only part of the match with python re.sub</td>\n",
              "      <td>I need to match two cases by one reg expression and do replacement\\n'long.fi...</td>\n",
              "      <td>python|regex</td>\n",
              "      <td>re.sub(r'(?:_a)?\\.([^.]*)$', r'_suff.\\1', \"long.file.name.jpg\")\\r\\n\\n?: sta...</td>\n",
              "      <td>22</td>\n",
              "    </tr>\n",
              "    <tr>\n",
              "      <th>3</th>\n",
              "      <td>7931726</td>\n",
              "      <td>Are datagrams always received completely?</td>\n",
              "      <td>Most datagram receiving functions such as c's recv or read, javas DatagramPa...</td>\n",
              "      <td>java|python|c|udp|datagram</td>\n",
              "      <td>UDP datagrams cannot be partially delivered¹; they are delivered as-is or no...</td>\n",
              "      <td>14</td>\n",
              "    </tr>\n",
              "    <tr>\n",
              "      <th>4</th>\n",
              "      <td>3838329</td>\n",
              "      <td>How can I check if two segments intersect?</td>\n",
              "      <td>How can I check if 2 segments intersect?\\nI've the following data:\\nSegment1...</td>\n",
              "      <td>python|math</td>\n",
              "      <td>The equation of a line is:\\nf(x) = A*x + b = y\\r\\n\\nFor a segment, it is exa...</td>\n",
              "      <td>42</td>\n",
              "    </tr>\n",
              "  </tbody>\n",
              "</table>\n",
              "</div>"
            ],
            "text/plain": [
              "         id  ... score\n",
              "0  32490721  ...    35\n",
              "1  16784162  ...    20\n",
              "2   2763750  ...    22\n",
              "3   7931726  ...    14\n",
              "4   3838329  ...    42\n",
              "\n",
              "[5 rows x 6 columns]"
            ]
          },
          "metadata": {},
          "execution_count": 15
        }
      ]
    },
    {
      "cell_type": "code",
      "metadata": {
        "id": "xyS300nCJVny"
      },
      "source": [
        "def clean_text(text):\n",
        "    text = re.sub(r\"\\'\", \"'\", text) # match all literal apostrophe pattern then replace them by a single whitespace\n",
        "    text = re.sub(r\"\\n\", \" \", text) # match all literal Line Feed (New line) pattern then replace them by a single whitespace\n",
        "    text = re.sub(r\"\\xa0\", \" \", text) # match all literal non-breakable space pattern then replace them by a single whitespace\n",
        "    text = re.sub('\\s+', ' ', text) # match all one or more whitespace then replace them by a single whitespace\n",
        "    text = text.strip(' ')\n",
        "    return text"
      ],
      "execution_count": null,
      "outputs": []
    },
    {
      "cell_type": "code",
      "metadata": {
        "colab": {
          "base_uri": "https://localhost:8080/"
        },
        "id": "nM4HnsFFJKWk",
        "outputId": "5206b7fd-245c-488e-b184-a7802ae86b89"
      },
      "source": [
        "%%time\n",
        "\n",
        "df['title'] = df['title'].apply(lambda x: clean_text(x)) \n",
        "df['body'] = df['body'].apply(lambda x: clean_text(x))\n",
        "df['answers'] = df['answers'].apply(lambda x: clean_text(x))"
      ],
      "execution_count": null,
      "outputs": [
        {
          "output_type": "stream",
          "name": "stdout",
          "text": [
            "CPU times: user 2.8 s, sys: 26.1 ms, total: 2.83 s\n",
            "Wall time: 2.84 s\n"
          ]
        }
      ]
    },
    {
      "cell_type": "code",
      "metadata": {
        "colab": {
          "base_uri": "https://localhost:8080/",
          "height": 374
        },
        "id": "wlhp57XCKa0Y",
        "outputId": "62f26e4c-fc52-415d-e860-a9417b7b1aed"
      },
      "source": [
        "df.head()"
      ],
      "execution_count": null,
      "outputs": [
        {
          "output_type": "execute_result",
          "data": {
            "text/html": [
              "<div>\n",
              "<style scoped>\n",
              "    .dataframe tbody tr th:only-of-type {\n",
              "        vertical-align: middle;\n",
              "    }\n",
              "\n",
              "    .dataframe tbody tr th {\n",
              "        vertical-align: top;\n",
              "    }\n",
              "\n",
              "    .dataframe thead th {\n",
              "        text-align: right;\n",
              "    }\n",
              "</style>\n",
              "<table border=\"1\" class=\"dataframe\">\n",
              "  <thead>\n",
              "    <tr style=\"text-align: right;\">\n",
              "      <th></th>\n",
              "      <th>id</th>\n",
              "      <th>title</th>\n",
              "      <th>body</th>\n",
              "      <th>tags</th>\n",
              "      <th>answers</th>\n",
              "      <th>score</th>\n",
              "    </tr>\n",
              "  </thead>\n",
              "  <tbody>\n",
              "    <tr>\n",
              "      <th>0</th>\n",
              "      <td>32490721</td>\n",
              "      <td>What does the /= operator mean in Python?</td>\n",
              "      <td>What does the operator /= (slash equals) mean in Python? I know |= is a set ...</td>\n",
              "      <td>python|syntax</td>\n",
              "      <td>It's an assignment operator shorthand for / and =. Example: x = 12 x /= 3 # ...</td>\n",
              "      <td>35</td>\n",
              "    </tr>\n",
              "    <tr>\n",
              "      <th>1</th>\n",
              "      <td>16784162</td>\n",
              "      <td>What is a solid example of something that can be done with list comprehensio...</td>\n",
              "      <td>I've heard from many Pythonists that they prefer list comprehensions because...</td>\n",
              "      <td>python|haskell|clojure|functional-programming|list-comprehension</td>\n",
              "      <td>As has been said, everything you can do with list comprehensions can be desu...</td>\n",
              "      <td>20</td>\n",
              "    </tr>\n",
              "    <tr>\n",
              "      <th>2</th>\n",
              "      <td>2763750</td>\n",
              "      <td>How to replace only part of the match with python re.sub</td>\n",
              "      <td>I need to match two cases by one reg expression and do replacement 'long.fil...</td>\n",
              "      <td>python|regex</td>\n",
              "      <td>re.sub(r'(?:_a)?\\.([^.]*)$', r'_suff.\\1', \"long.file.name.jpg\") ?: starts a ...</td>\n",
              "      <td>22</td>\n",
              "    </tr>\n",
              "    <tr>\n",
              "      <th>3</th>\n",
              "      <td>7931726</td>\n",
              "      <td>Are datagrams always received completely?</td>\n",
              "      <td>Most datagram receiving functions such as c's recv or read, javas DatagramPa...</td>\n",
              "      <td>java|python|c|udp|datagram</td>\n",
              "      <td>UDP datagrams cannot be partially delivered¹; they are delivered as-is or no...</td>\n",
              "      <td>14</td>\n",
              "    </tr>\n",
              "    <tr>\n",
              "      <th>4</th>\n",
              "      <td>3838329</td>\n",
              "      <td>How can I check if two segments intersect?</td>\n",
              "      <td>How can I check if 2 segments intersect? I've the following data: Segment1 [...</td>\n",
              "      <td>python|math</td>\n",
              "      <td>The equation of a line is: f(x) = A*x + b = y For a segment, it is exactly t...</td>\n",
              "      <td>42</td>\n",
              "    </tr>\n",
              "  </tbody>\n",
              "</table>\n",
              "</div>"
            ],
            "text/plain": [
              "         id  ... score\n",
              "0  32490721  ...    35\n",
              "1  16784162  ...    20\n",
              "2   2763750  ...    22\n",
              "3   7931726  ...    14\n",
              "4   3838329  ...    42\n",
              "\n",
              "[5 rows x 6 columns]"
            ]
          },
          "metadata": {},
          "execution_count": 18
        }
      ]
    },
    {
      "cell_type": "markdown",
      "metadata": {
        "id": "Rvlj3wvcbpZb"
      },
      "source": [
        "# Setup Elastic Search \n"
      ]
    },
    {
      "cell_type": "code",
      "metadata": {
        "id": "gYuq0F52nmzX"
      },
      "source": [
        "import os\n",
        "from subprocess import Popen, PIPE, STDOUT"
      ],
      "execution_count": null,
      "outputs": []
    },
    {
      "cell_type": "code",
      "metadata": {
        "id": "5lkXqntbk0k_"
      },
      "source": [
        "# # In Colab / No Docker environments: Start Elasticsearch from source\n",
        "! wget https://artifacts.elastic.co/downloads/elasticsearch/elasticsearch-7.9.2-linux-x86_64.tar.gz -q\n",
        "! tar -xzf elasticsearch-7.9.2-linux-x86_64.tar.gz\n",
        "! chown -R daemon:daemon elasticsearch-7.9.2\n",
        "\n",
        "\n",
        "es_server = Popen(['elasticsearch-7.9.2/bin/elasticsearch'],\n",
        "                   stdout=PIPE, stderr=STDOUT,\n",
        "                   preexec_fn=lambda: os.setuid(1)  # as daemon\n",
        "                  )\n",
        "# wait until ES has started\n",
        "! sleep 30"
      ],
      "execution_count": null,
      "outputs": []
    },
    {
      "cell_type": "markdown",
      "metadata": {
        "id": "cftZ-_GJb0hc"
      },
      "source": [
        "# Setup Document Store"
      ]
    },
    {
      "cell_type": "code",
      "metadata": {
        "id": "1ECM2su9nTGa"
      },
      "source": [
        "from haystack.document_stores import ElasticsearchDocumentStore\n",
        "document_store = ElasticsearchDocumentStore(host=\"localhost\", username=\"\", password=\"\",\n",
        "                                            index=\"document\",\n",
        "                                            embedding_field=\"question_emb\",\n",
        "                                            embedding_dim=384,\n",
        "                                            excluded_meta_data=[\"question_emb\"])"
      ],
      "execution_count": null,
      "outputs": []
    },
    {
      "cell_type": "code",
      "metadata": {
        "colab": {
          "base_uri": "https://localhost:8080/",
          "height": 484,
          "referenced_widgets": [
            "4807e0393ade4c3a8743458b76660664",
            "b637028611ae43b292119e20b2b2354e",
            "50fa51c40911423abc14c2cf03267a68",
            "b27ce27be17d428eb33b3f549b29e2fd",
            "e58c54a311874343a19426a7f02a2307",
            "28d2b635224f46ed8acfa3a0abf36fd5",
            "503725f0a86c4c039028ee871a215235",
            "913947cdbba5439f87312a5e4ee7f841",
            "f4ba5be74d614144b2dcfdf6877c7418",
            "7f6673452ada426392f0171b808c13df",
            "6ae2c8a6b5964f2ba00aad4d00270fc5",
            "c7c1e198db2345e4abff0db3a2f5624e",
            "18f034fb7d874d56b6a9fab65a27b035",
            "1892fee35496477fbda14642240de77c",
            "838384278ac84b8aa26376a6d83aca67",
            "ea162e9317ff490c9924314bab3c2cf1",
            "bf9dbe75ee7242409b5938d82ee1b2b0",
            "77ca90c4cabd446688693fbb3bf54f10",
            "7f7e2d6de106435da74964f929b1f941",
            "0bd2fe90ea8343399f56dbfc63929a04",
            "aa9165a51e4b43028e3c8e3c29c4ecb1",
            "baea0a9079e748649121e408275f6bb5",
            "33bd5f135669405fac50cea900322b7a",
            "4c47cfabd1b244868da44d9057ac456f",
            "2ab74b271cf14b50b3ce1f7f8fdb9924",
            "8b985b461ff7417aaf591a933ae9251a",
            "c436857d3455464985a443709c44ebad",
            "f1ab77dc10dc4a3e89d390abad622e08",
            "e6b97d68dbe54a4e86d07592c0f5bfca",
            "4c3f6395de914ea1b54b0663fab9da24",
            "81b842fd892647af8f999a8a1b0e5a52",
            "ce2eab4aec5f4bd79dd6bdb35d32c704",
            "41e43ac6fedb41ab862ec1b0b5c1764d",
            "ae17cbbfc86744b2894a48cb6fa5e779",
            "06434da4a1e044d0a4ccef9d420ac530",
            "9ea882a60bb1441aa759ec64e85d365e",
            "cf9c338427c1490f93f77253f61e88dc",
            "c6770dfff5a54a7780cd5b1d7bd93756",
            "4118cbb54a5e4e66995da471a861232c",
            "1dd97569e00f418aa7417948d0465e76",
            "7bab72e614824e39babf7bb025ab057e",
            "fe9bd245da364e9c813e641f97d40c55",
            "1babcaf661f846f6a251228cfa27f959",
            "458dc7332e574321a10a5bba78eb90a4",
            "0125f0639ce34de1a4207ad0b2b0b0f1",
            "8e764935cb564ec9810979154643f5a8",
            "cd6f056f727c48e3a4282d6ea2c4dce8",
            "1411eaca317445cca6464490f12c8cf3",
            "a816aceb0db949339495ff1b2f8242be",
            "66828122ebf0402c90174bf675c5f6f0",
            "03e4b0e35326471e97e275795fbe4714",
            "23065e00412b4b4998e0e792c671b231",
            "cbf726cfa21d43cba2d03b5e1d35d546",
            "438b53260ab44e5c9504a3e9f2221512",
            "007a8fa3b4474016936c7b7698b75920",
            "3b7dc78683354627853f9be829c2767d",
            "320932491ef84beaafcf73182415ed2a",
            "136dba3549ca42ada36d435365bc9f28",
            "58cb3283bb8c42be84261367b4cf2db2",
            "559322f663db41e2a22cff20ee920230",
            "860aa9b5c8c443978d7cf7be1e68c24d",
            "95c5b25eb9204f22aee9ed39b5db7fd2",
            "d36017ff141b44e1940f1954c2e80741",
            "79595f3d38cb4d3fad60503ec77d4731",
            "490924df351a45d6ace08f99077c1226",
            "8dc91d6cb69c48f1be4dd1b24435deba"
          ]
        },
        "id": "lKJtmBRLnfpv",
        "outputId": "70428245-4640-4b8d-bf1b-cdc8ed579de2"
      },
      "source": [
        "retriever = EmbeddingRetriever(document_store=document_store, \n",
        "                               embedding_model=\"sentence-transformers/all-MiniLM-L6-v2\",\n",
        "                               use_gpu=True)"
      ],
      "execution_count": null,
      "outputs": [
        {
          "output_type": "stream",
          "name": "stderr",
          "text": [
            "INFO - haystack.modeling.utils -  Using devices: CUDA:0\n",
            "INFO - haystack.modeling.utils -  Number of GPUs: 1\n",
            "INFO - haystack.nodes.retriever.dense -  Init retriever using embeddings of model sentence-transformers/all-MiniLM-L6-v2\n",
            "INFO - haystack.modeling.utils -  Using devices: CUDA\n",
            "INFO - haystack.modeling.utils -  Number of GPUs: 1\n",
            "INFO - haystack.modeling.model.language_model -  LOADING MODEL\n",
            "INFO - haystack.modeling.model.language_model -  =============\n",
            "INFO - haystack.modeling.model.language_model -  Could not find sentence-transformers/all-MiniLM-L6-v2 locally.\n",
            "INFO - haystack.modeling.model.language_model -  Looking on Transformers Model Hub (in local cache and online)...\n"
          ]
        },
        {
          "output_type": "display_data",
          "data": {
            "application/vnd.jupyter.widget-view+json": {
              "model_id": "4807e0393ade4c3a8743458b76660664",
              "version_minor": 0,
              "version_major": 2
            },
            "text/plain": [
              "Downloading:   0%|          | 0.00/612 [00:00<?, ?B/s]"
            ]
          },
          "metadata": {}
        },
        {
          "output_type": "display_data",
          "data": {
            "application/vnd.jupyter.widget-view+json": {
              "model_id": "c7c1e198db2345e4abff0db3a2f5624e",
              "version_minor": 0,
              "version_major": 2
            },
            "text/plain": [
              "Downloading:   0%|          | 0.00/90.9M [00:00<?, ?B/s]"
            ]
          },
          "metadata": {}
        },
        {
          "output_type": "stream",
          "name": "stderr",
          "text": [
            "INFO - haystack.modeling.model.language_model -  Loaded sentence-transformers/all-MiniLM-L6-v2\n"
          ]
        },
        {
          "output_type": "display_data",
          "data": {
            "application/vnd.jupyter.widget-view+json": {
              "model_id": "33bd5f135669405fac50cea900322b7a",
              "version_minor": 0,
              "version_major": 2
            },
            "text/plain": [
              "Downloading:   0%|          | 0.00/232k [00:00<?, ?B/s]"
            ]
          },
          "metadata": {}
        },
        {
          "output_type": "display_data",
          "data": {
            "application/vnd.jupyter.widget-view+json": {
              "model_id": "ae17cbbfc86744b2894a48cb6fa5e779",
              "version_minor": 0,
              "version_major": 2
            },
            "text/plain": [
              "Downloading:   0%|          | 0.00/466k [00:00<?, ?B/s]"
            ]
          },
          "metadata": {}
        },
        {
          "output_type": "display_data",
          "data": {
            "application/vnd.jupyter.widget-view+json": {
              "model_id": "0125f0639ce34de1a4207ad0b2b0b0f1",
              "version_minor": 0,
              "version_major": 2
            },
            "text/plain": [
              "Downloading:   0%|          | 0.00/112 [00:00<?, ?B/s]"
            ]
          },
          "metadata": {}
        },
        {
          "output_type": "display_data",
          "data": {
            "application/vnd.jupyter.widget-view+json": {
              "model_id": "3b7dc78683354627853f9be829c2767d",
              "version_minor": 0,
              "version_major": 2
            },
            "text/plain": [
              "Downloading:   0%|          | 0.00/350 [00:00<?, ?B/s]"
            ]
          },
          "metadata": {}
        },
        {
          "output_type": "stream",
          "name": "stderr",
          "text": [
            "INFO - haystack.modeling.data_handler.processor -  Initialized processor without tasks. Supply `metric` and `label_list` to the constructor for using the default task or add a custom task later via processor.add_task()\n",
            "INFO - haystack.modeling.logger -  ML Logging is turned off. No parameters, metrics or artifacts will be logged to MLFlow.\n",
            "INFO - haystack.modeling.utils -  Using devices: CUDA\n",
            "INFO - haystack.modeling.utils -  Number of GPUs: 1\n",
            "WARNING - haystack.nodes.retriever._embedding_encoder -  You seem to be using a Sentence Transformer with the dot_product function. We recommend using cosine instead. This can be set when initializing the DocumentStore\n"
          ]
        }
      ]
    },
    {
      "cell_type": "code",
      "metadata": {
        "colab": {
          "base_uri": "https://localhost:8080/"
        },
        "id": "dQmmP1RTWp7z",
        "outputId": "6b6532b8-90a3-40e8-e8f0-2a1804748d4d"
      },
      "source": [
        "df.columns"
      ],
      "execution_count": null,
      "outputs": [
        {
          "output_type": "execute_result",
          "data": {
            "text/plain": [
              "Index(['id', 'title', 'body', 'tags', 'answers', 'score'], dtype='object')"
            ]
          },
          "metadata": {},
          "execution_count": 23
        }
      ]
    },
    {
      "cell_type": "code",
      "metadata": {
        "colab": {
          "base_uri": "https://localhost:8080/"
        },
        "id": "4fDkmV22nist",
        "outputId": "9a6e48c7-25c8-4a90-f145-23286c626517"
      },
      "source": [
        "df.fillna(value=\"\", inplace=True)\n",
        "df[\"question\"] = df[\"title\"].apply(lambda x: x.strip())\n",
        "print(df.head())\n",
        "\n",
        "# Get embeddings for our questions from the FAQs\n",
        "questions = list(df[\"title\"].values)\n",
        "\n",
        "\n",
        "df[\"question_emb\"] = retriever.embed_queries(texts=questions)\n",
        "df = df.rename(columns={\"question\": \"content\"})\n",
        "\n",
        "# Convert Dataframe to list of dicts and index them in our DocumentStore\n",
        "docs_to_index = df.to_dict(orient=\"records\")\n",
        "document_store.write_documents(docs_to_index)"
      ],
      "execution_count": null,
      "outputs": [
        {
          "output_type": "stream",
          "name": "stdout",
          "text": [
            "         id  ...                                                                         question\n",
            "0  32490721  ...                                        What does the /= operator mean in Python?\n",
            "1  16784162  ...  What is a solid example of something that can be done with list comprehensio...\n",
            "2   2763750  ...                         How to replace only part of the match with python re.sub\n",
            "3   7931726  ...                                        Are datagrams always received completely?\n",
            "4   3838329  ...                                       How can I check if two segments intersect?\n",
            "\n",
            "[5 rows x 7 columns]\n"
          ]
        },
        {
          "output_type": "stream",
          "name": "stderr",
          "text": [
            "Inferencing Samples: 100%|██████████| 6195/6195 [06:25<00:00, 16.09 Batches/s]\n"
          ]
        }
      ]
    },
    {
      "cell_type": "markdown",
      "metadata": {
        "id": "pwZjy-Rmb_31"
      },
      "source": [
        "# Loading Pipeline"
      ]
    },
    {
      "cell_type": "code",
      "metadata": {
        "id": "tVnsd5g-n8Rl"
      },
      "source": [
        "from haystack.pipelines import FAQPipeline\n",
        "pipe = FAQPipeline(retriever=retriever)"
      ],
      "execution_count": null,
      "outputs": []
    },
    {
      "cell_type": "code",
      "metadata": {
        "colab": {
          "base_uri": "https://localhost:8080/"
        },
        "id": "rGDaILZecr5d",
        "outputId": "6b4583ab-1626-4f07-920f-efdabffaa629"
      },
      "source": [
        "df[\"tags\"].value_counts().to_dict()"
      ],
      "execution_count": null,
      "outputs": [
        {
          "output_type": "execute_result",
          "data": {
            "text/plain": [
              "{'python': 2102,\n",
              " 'python|python-3.x': 447,\n",
              " 'python|pandas': 413,\n",
              " 'python|django': 397,\n",
              " 'python|regex': 243,\n",
              " 'python|python-2.7': 220,\n",
              " 'python|list': 200,\n",
              " 'python|dictionary': 169,\n",
              " 'python-3.x': 159,\n",
              " 'python|numpy': 150,\n",
              " 'python|pandas|dataframe': 138,\n",
              " 'python|matplotlib': 101,\n",
              " 'python|csv': 93,\n",
              " 'python|string': 81,\n",
              " 'python|json': 78,\n",
              " 'python|arrays|numpy': 73,\n",
              " 'python|django|django-models': 72,\n",
              " 'python|tkinter': 70,\n",
              " 'python-2.7': 65,\n",
              " 'python|tensorflow': 63,\n",
              " 'python|flask': 59,\n",
              " 'python|beautifulsoup': 56,\n",
              " 'python|selenium': 53,\n",
              " 'python|django|django-rest-framework': 50,\n",
              " 'python|pygame': 50,\n",
              " 'python|list|dictionary': 46,\n",
              " 'python|opencv': 40,\n",
              " 'python|loops': 34,\n",
              " 'python|arrays': 34,\n",
              " 'python|datetime': 33,\n",
              " 'python|multithreading': 33,\n",
              " 'python|algorithm': 33,\n",
              " 'python|scrapy': 32,\n",
              " 'python|recursion': 32,\n",
              " 'python|file': 32,\n",
              " 'python|web-scraping|beautifulsoup': 31,\n",
              " 'python|google-app-engine': 30,\n",
              " 'python|mysql': 30,\n",
              " 'python|kivy': 29,\n",
              " 'python-3.x|pandas': 28,\n",
              " 'python|python-3.x|pandas': 28,\n",
              " 'python|function': 27,\n",
              " 'python|python-3.x|dictionary': 26,\n",
              " 'python|regex|python-3.x': 25,\n",
              " 'python|wxpython': 25,\n",
              " 'python|xml': 25,\n",
              " 'python|class': 24,\n",
              " 'python|django|django-forms': 24,\n",
              " 'python|pip': 23,\n",
              " 'python|python-2.7|python-3.x': 23,\n",
              " 'python|if-statement': 23,\n",
              " 'python|string|python-3.x': 23,\n",
              " 'python|regex|string': 23,\n",
              " 'python|sqlite': 23,\n",
              " 'python|html|django': 23,\n",
              " 'python|subprocess': 23,\n",
              " 'python|pandas|numpy': 22,\n",
              " 'python|for-loop': 22,\n",
              " 'python|math': 22,\n",
              " 'python|python-import': 22,\n",
              " 'python|tensorflow|keras': 22,\n",
              " 'python|while-loop': 21,\n",
              " 'python|sqlalchemy': 21,\n",
              " 'python|list|tuples': 20,\n",
              " 'python|scikit-learn': 20,\n",
              " 'python|django|django-templates': 20,\n",
              " 'python|string|list': 20,\n",
              " 'python|logging': 20,\n",
              " 'python|list-comprehension': 20,\n",
              " 'python|python-3.x|tkinter': 20,\n",
              " 'python|oop': 19,\n",
              " 'python|linux': 19,\n",
              " 'python|pycharm': 19,\n",
              " 'python|sorting': 18,\n",
              " 'python|syntax': 18,\n",
              " 'python|windows': 18,\n",
              " 'python|multiprocessing': 18,\n",
              " 'python|python-requests': 17,\n",
              " 'python|python-3.x|list': 17,\n",
              " 'python|pandas|matplotlib': 17,\n",
              " 'python|django|forms': 17,\n",
              " 'python|matplotlib|plot': 16,\n",
              " 'python|unit-testing': 16,\n",
              " 'python|mysql|django': 15,\n",
              " 'python|turtle-graphics': 15,\n",
              " 'python|pytest': 15,\n",
              " 'python|sockets': 15,\n",
              " 'python|maya': 15,\n",
              " 'python|unicode': 14,\n",
              " 'python|django|django-models|django-admin': 14,\n",
              " 'python|numpy|pandas': 14,\n",
              " 'python|random': 14,\n",
              " 'python|csv|dictionary': 14,\n",
              " 'python|regex|python-2.7': 14,\n",
              " 'python|user-interface|tkinter': 14,\n",
              " 'python|file-io': 14,\n",
              " 'python|argparse': 14,\n",
              " 'regex|python-2.7': 14,\n",
              " 'python|python-3.x|pandas|dataframe': 13,\n",
              " 'python|numpy|scipy': 13,\n",
              " 'python|virtualenv': 13,\n",
              " 'python|input': 13,\n",
              " 'python|pandas|csv': 13,\n",
              " 'python|python-2.7|csv': 12,\n",
              " 'php|python': 12,\n",
              " 'python|python-3.x|numpy': 12,\n",
              " 'python|django|django-views': 12,\n",
              " 'python|celery': 12,\n",
              " 'python|fabric': 12,\n",
              " 'python|pandas|numpy|dataframe': 12,\n",
              " 'python|web-scraping': 12,\n",
              " 'python|pandas|datetime': 12,\n",
              " 'python|jupyter-notebook': 12,\n",
              " 'python|python-2.7|dictionary': 11,\n",
              " 'python|python-3.x|python-2.7': 11,\n",
              " 'python|variables': 11,\n",
              " 'python|python-2.7|pandas': 11,\n",
              " 'python|numpy|matrix': 11,\n",
              " 'python|csv|pandas': 11,\n",
              " 'python|html|beautifulsoup': 11,\n",
              " 'django|python-3.x': 11,\n",
              " 'python|numpy|matplotlib': 11,\n",
              " 'python|lxml': 11,\n",
              " 'python|nltk': 11,\n",
              " 'python|split': 11,\n",
              " 'python|django|django-queryset': 10,\n",
              " 'python|pyqt': 10,\n",
              " 'python|dataframe': 10,\n",
              " 'python|dictionary|key': 10,\n",
              " 'python|sorting|dictionary': 10,\n",
              " 'python|time': 10,\n",
              " 'python|django|django-admin': 10,\n",
              " 'python|path': 10,\n",
              " 'python|excel': 10,\n",
              " 'python|exception': 10,\n",
              " 'python|web-scraping|scrapy': 10,\n",
              " 'python|postgresql': 10,\n",
              " 'python|import': 10,\n",
              " 'python|scipy': 10,\n",
              " 'python|flask|jinja2': 10,\n",
              " 'python|json|list': 10,\n",
              " 'python|macos': 9,\n",
              " 'wxpython': 9,\n",
              " 'python|python-3.x|pygame': 9,\n",
              " 'python|python-3.4': 9,\n",
              " 'python|list|sorting': 9,\n",
              " 'python-3.x|tkinter': 9,\n",
              " 'python|python-3.5': 9,\n",
              " 'python|postgresql|psycopg2': 9,\n",
              " 'python|vim': 9,\n",
              " 'python|syntax-error': 9,\n",
              " 'python|pandas|pandas-groupby': 9,\n",
              " 'python|raspberry-pi': 9,\n",
              " 'python|list|python-3.x': 9,\n",
              " 'python|set': 8,\n",
              " 'python|string-formatting': 8,\n",
              " 'python|shell': 8,\n",
              " 'python|ipython': 8,\n",
              " 'python|list|csv': 8,\n",
              " 'python|html': 8,\n",
              " 'c++|python': 8,\n",
              " 'python|pickle': 8,\n",
              " 'python|sqlalchemy|flask-sqlalchemy': 8,\n",
              " 'python|string|substring': 8,\n",
              " 'regex|python-3.x': 8,\n",
              " 'python|sql|sqlite': 8,\n",
              " 'python|replace': 8,\n",
              " 'python|list|for-loop': 8,\n",
              " 'python|django|python-3.x': 8,\n",
              " 'python|c++': 8,\n",
              " 'python|module': 8,\n",
              " 'python|io': 8,\n",
              " 'javascript|python': 8,\n",
              " 'python|pandas|dataframe|pandas-groupby': 8,\n",
              " 'python|python-3.x|beautifulsoup': 8,\n",
              " 'python|django|model': 8,\n",
              " 'python|exception-handling': 8,\n",
              " 'python|tkinter|tkinter-canvas': 8,\n",
              " 'python|string|split': 8,\n",
              " 'python|python-imaging-library': 8,\n",
              " 'python|python-3.x|csv': 8,\n",
              " 'python|list|python-2.7': 8,\n",
              " 'python|python-3.x|turtle-graphics': 8,\n",
              " 'python|decorator': 8,\n",
              " 'python|loops|for-loop': 8,\n",
              " 'python|image-processing': 8,\n",
              " 'python|selenium|selenium-chromedriver': 8,\n",
              " 'python|django|web': 7,\n",
              " 'python|sympy': 7,\n",
              " 'python|datetime|pandas': 7,\n",
              " 'python|spyder': 7,\n",
              " 'python-3.x|dictionary': 7,\n",
              " 'python|perl': 7,\n",
              " 'python|tuples': 7,\n",
              " 'python|xml|elementtree': 7,\n",
              " 'python|excel|csv': 7,\n",
              " 'python|matlab': 7,\n",
              " 'python|django|sqlite': 7,\n",
              " 'python|django|tastypie': 7,\n",
              " 'python|python-3.x|recursion': 7,\n",
              " 'python|unit-testing|mocking': 7,\n",
              " 'python|python-imaging-library|pillow': 7,\n",
              " 'python|json|csv': 7,\n",
              " 'python|directory': 7,\n",
              " 'python|json|python-3.x': 7,\n",
              " 'python|python-3.x|web-scraping|beautifulsoup': 7,\n",
              " 'python|django|django-urls': 7,\n",
              " 'python|pandas|dictionary': 7,\n",
              " 'python|printing': 7,\n",
              " 'python|networkx': 7,\n",
              " 'python|performance|numpy': 7,\n",
              " 'python|sql': 7,\n",
              " 'python|ubuntu': 7,\n",
              " 'python|typeerror': 7,\n",
              " 'python|text': 7,\n",
              " 'python|excel|pandas': 7,\n",
              " 'python|scope': 7,\n",
              " 'python-3.6': 7,\n",
              " 'python|tensorflow|deep-learning': 7,\n",
              " 'python|binary': 7,\n",
              " 'python|parsing': 7,\n",
              " 'python|mongodb|pymongo': 7,\n",
              " 'python|bokeh': 6,\n",
              " 'python|string|python-2.7': 6,\n",
              " 'python|ftp': 6,\n",
              " 'python|format': 6,\n",
              " 'python|json|python-2.7': 6,\n",
              " 'python|pandas|scikit-learn': 6,\n",
              " 'python|python-2.7|numpy': 6,\n",
              " 'python|django|postgresql': 6,\n",
              " 'javascript|jquery|python|ajax|django': 6,\n",
              " 'python|iteration': 6,\n",
              " 'python|python-3.3': 6,\n",
              " 'python|apache-spark|pyspark': 6,\n",
              " 'python|django|django-models|django-forms': 6,\n",
              " 'python|machine-learning|scikit-learn': 6,\n",
              " 'python-3.x|selenium-webdriver': 6,\n",
              " 'python|list|random': 6,\n",
              " 'python|primes': 6,\n",
              " 'python|pyqt4': 6,\n",
              " 'python|opencv|image-processing': 6,\n",
              " 'python|csv|numpy': 6,\n",
              " 'python|python-3.x|matplotlib': 6,\n",
              " 'python|list|indexing': 6,\n",
              " 'python|regex|list': 6,\n",
              " 'python|twisted': 6,\n",
              " 'python-3.x|beautifulsoup': 6,\n",
              " 'python|hash': 6,\n",
              " 'python|anaconda': 6,\n",
              " 'python|selenium|selenium-webdriver': 6,\n",
              " 'python|list|python-3.x|dictionary': 6,\n",
              " 'python|django|celery': 6,\n",
              " 'python|openpyxl': 6,\n",
              " 'python|matplotlib|subplot': 6,\n",
              " 'python|ruby': 6,\n",
              " 'python|pyside': 6,\n",
              " 'python|anaconda|conda': 6,\n",
              " 'python|mongodb': 6,\n",
              " 'python|r': 6,\n",
              " 'python|tkinter|tk': 6,\n",
              " 'python|date': 6,\n",
              " 'python|ssh|paramiko': 6,\n",
              " 'python|loops|while-loop': 6,\n",
              " 'python|lambda': 6,\n",
              " 'python|algorithm|sorting': 6,\n",
              " 'django|python-3.x|django-models': 6,\n",
              " 'python|qt|pyqt': 6,\n",
              " 'python-3.x|numpy': 6,\n",
              " 'python|django|pycharm': 6,\n",
              " 'python|keras': 6,\n",
              " 'python|image': 6,\n",
              " 'python|json|flask': 6,\n",
              " 'python-3.x|tensorflow': 6,\n",
              " 'python|google-app-engine|google-cloud-datastore': 6,\n",
              " 'python|django|csv': 6,\n",
              " 'python|api': 6,\n",
              " 'python|selenium|webdriver': 6,\n",
              " 'python|selenium-webdriver': 6,\n",
              " 'python|python-multiprocessing': 5,\n",
              " 'python|python-3.x|for-loop': 5,\n",
              " 'python|text-files': 5,\n",
              " 'python|list|loops|for-loop': 5,\n",
              " 'python|pdf': 5,\n",
              " 'python|django|datetime': 5,\n",
              " 'python|django|caching': 5,\n",
              " 'jquery|python|ajax|django': 5,\n",
              " 'python|optimization': 5,\n",
              " 'python|robotframework': 5,\n",
              " 'python|pygtk': 5,\n",
              " 'python|arrays|string': 5,\n",
              " 'python|pymongo': 5,\n",
              " 'python|python-2.7|pip': 5,\n",
              " 'python|unit-testing|testing': 5,\n",
              " 'python|cx-freeze': 5,\n",
              " 'python|plotly': 5,\n",
              " 'python|subprocess|popen': 5,\n",
              " 'python|openerp': 5,\n",
              " 'python|generator': 5,\n",
              " 'python|python-3.x|pip|package|setuptools': 5,\n",
              " 'python|multithreading|multiprocessing': 5,\n",
              " 'python|urllib2': 5,\n",
              " 'python|list|duplicates': 5,\n",
              " 'python|kivy|kivy-language': 5,\n",
              " 'python|python-3.x|pycharm': 5,\n",
              " 'python|python-3.x|python-import': 5,\n",
              " 'python|python-3.x|list|dictionary': 5,\n",
              " 'python|python-2.7|beautifulsoup': 5,\n",
              " 'python|html|flask': 5,\n",
              " 'python|python-3.x|opencv': 5,\n",
              " 'python|date|datetime': 5,\n",
              " 'python|geometry': 5,\n",
              " 'python|django|heroku': 5,\n",
              " 'python|c++|cython': 5,\n",
              " 'javascript|python|django': 5,\n",
              " 'python|pyqt|pyqt4': 5,\n",
              " 'python|web-scraping|python-requests': 5,\n",
              " 'python|statistics': 5,\n",
              " 'python|excel|win32com': 5,\n",
              " 'python|email|smtplib': 5,\n",
              " 'python|mysql|pymysql': 5,\n",
              " 'python-3.x|matplotlib': 5,\n",
              " 'python|regex|pandas': 5,\n",
              " 'python|xml|lxml': 5,\n",
              " 'python|elasticsearch': 5,\n",
              " 'python|python-3.x|text-files': 5,\n",
              " 'python|string|dictionary': 5,\n",
              " 'python|shell|command|subprocess|external': 5,\n",
              " 'python|pyspark': 5,\n",
              " 'python|pandas|dictionary|dataframe': 5,\n",
              " 'python|list|loops': 5,\n",
              " 'python|python-3.x|while-loop': 5,\n",
              " 'python|indexing': 5,\n",
              " 'python|python-2.7|argparse': 5,\n",
              " 'django|python-2.7': 5,\n",
              " 'python|import|module': 5,\n",
              " 'python|performance': 5,\n",
              " 'c#|java|python|c++|algorithm': 5,\n",
              " 'python|types': 5,\n",
              " 'python|json|pandas': 5,\n",
              " 'python|distutils': 5,\n",
              " 'python|string|file|readlines': 5,\n",
              " 'python|google-app-engine|flask': 5,\n",
              " 'python|web.py': 5,\n",
              " 'python|ansible': 5,\n",
              " 'python|mysql|mysql-python': 5,\n",
              " 'python|python-multithreading': 5,\n",
              " 'python|indentation': 5,\n",
              " 'python|python-3.x|if-statement': 5,\n",
              " 'python|button|tkinter': 5,\n",
              " 'python|numpy|matplotlib|scipy': 5,\n",
              " 'python|eclipse|pydev': 5,\n",
              " 'python|file|python-3.x': 5,\n",
              " 'python|json|dictionary': 5,\n",
              " 'java|python': 5,\n",
              " 'python|sql|sqlalchemy': 5,\n",
              " 'python|python-3.6': 5,\n",
              " 'python|numbers': 5,\n",
              " 'python|list|list-comprehension': 5,\n",
              " 'python|jupyter-notebook|jupyter': 5,\n",
              " 'python|string|algorithm': 5,\n",
              " 'python|attributeerror': 5,\n",
              " 'python|xpath|lxml': 5,\n",
              " 'python|class|module': 4,\n",
              " 'python|arrays|numpy|matplotlib': 4,\n",
              " 'python|arrays|numpy|append': 4,\n",
              " 'python|animation|matplotlib': 4,\n",
              " 'python|python-3.x|syntax': 4,\n",
              " 'python|selenium|web-scraping': 4,\n",
              " 'python|apache-spark|dataframe|pyspark': 4,\n",
              " 'python|arrays|list': 4,\n",
              " 'python|python-sphinx': 4,\n",
              " 'python|class|object': 4,\n",
              " 'python|django|django-models|django-templates|django-views': 4,\n",
              " 'python|django|validation|django-forms': 4,\n",
              " 'python|arguments': 4,\n",
              " 'python|linked-list': 4,\n",
              " 'python|list|sublist': 4,\n",
              " 'python|enums': 4,\n",
              " 'python|urllib': 4,\n",
              " 'python|jinja2': 4,\n",
              " 'python|nlp': 4,\n",
              " 'google-app-engine|python-2.7': 4,\n",
              " 'python|ajax|django': 4,\n",
              " 'python|python-2.7|tuples': 4,\n",
              " 'python|setuptools': 4,\n",
              " 'python|list|dictionary|tuples': 4,\n",
              " 'python|pyqt5': 4,\n",
              " 'python|ipython-notebook': 4,\n",
              " 'javascript|python|ajax|django': 4,\n",
              " 'python|django|django-models|django-queryset': 4,\n",
              " 'python|file-handling': 4,\n",
              " 'python|pandas|group-by': 4,\n",
              " 'python|counter|frequency|counting': 4,\n",
              " 'python|csv|for-loop': 4,\n",
              " 'python|python-3.x|tensorflow': 4,\n",
              " 'python|redis': 4,\n",
              " 'javascript|python|selenium': 4,\n",
              " 'python|django|django-forms|django-views': 4,\n",
              " 'python-2.7|tkinter': 4,\n",
              " 'python|python-2.x': 4,\n",
              " 'python|duplicates': 4,\n",
              " 'python|qt|pyside': 4,\n",
              " 'python-2.7|pandas': 4,\n",
              " 'python|sikuli': 4,\n",
              " 'python|mysql|database': 4,\n",
              " 'python|stack': 4,\n",
              " 'python|wxpython|wxwidgets': 4,\n",
              " 'python|python-2.7|for-loop': 4,\n",
              " 'python|numpy|cython': 4,\n",
              " 'python|django|mongodb': 4,\n",
              " 'python|python-3.x|file-io': 4,\n",
              " 'python|python-2.7|unicode|utf-8': 4,\n",
              " 'python|list|append': 4,\n",
              " 'python|regex|findall': 4,\n",
              " 'python|python-2.7|pygame': 4,\n",
              " 'python|parallel-processing': 4,\n",
              " 'python|django|django-templates|django-views': 4,\n",
              " 'python|mysql|django|django-models': 4,\n",
              " 'python|list|slice': 4,\n",
              " 'python|django|rest|api|django-rest-framework': 4,\n",
              " 'python|django|url': 4,\n",
              " 'python-2.7|pygame': 4,\n",
              " 'python|list|sum': 4,\n",
              " 'python|arrays|indexing': 4,\n",
              " 'python|json|django': 4,\n",
              " 'python|selenium|phantomjs': 4,\n",
              " 'python|django|orm': 4,\n",
              " 'python|pandas|dataframe|group-by': 4,\n",
              " 'python|terminal': 4,\n",
              " 'python|loops|indexing': 4,\n",
              " 'python|arrays|list|numpy': 4,\n",
              " 'python|nginx|flask|uwsgi': 4,\n",
              " 'python|function|return|return-value': 4,\n",
              " 'python|visual-studio-code': 4,\n",
              " 'python|numpy|python-imaging-library': 4,\n",
              " 'python|zip': 4,\n",
              " 'python|python-2.7|file-io': 4,\n",
              " 'android|python|kivy': 4,\n",
              " 'python|colors': 4,\n",
              " 'python|mysql|sqlalchemy': 4,\n",
              " 'python|django|authentication': 4,\n",
              " 'python|python-2.7|matplotlib': 4,\n",
              " 'python|html|flask|jinja2': 4,\n",
              " 'python|os.walk': 4,\n",
              " 'python|django|excel': 4,\n",
              " 'python|coding-style': 4,\n",
              " 'python|pandas|dataframe|time-series': 4,\n",
              " 'python|python-2.7|import': 4,\n",
              " 'python|multidimensional-array': 4,\n",
              " 'python|airflow': 4,\n",
              " 'python|slice': 4,\n",
              " 'python|yaml': 4,\n",
              " 'python|dictionary|mapping': 4,\n",
              " 'python|gtk': 4,\n",
              " 'python|operating-system': 4,\n",
              " 'python|arrays|numpy|multidimensional-array': 4,\n",
              " 'python|algorithm|python-3.x': 4,\n",
              " 'java|python|ruby|multithreading': 4,\n",
              " 'python|py2exe': 4,\n",
              " 'python|return': 4,\n",
              " 'python-3.x|ipython': 4,\n",
              " 'python|email': 4,\n",
              " 'python|list|function': 4,\n",
              " 'python|pytorch': 4,\n",
              " 'python|django|django-testing': 4,\n",
              " 'python|pandas|dataframe|select': 4,\n",
              " 'python|django|nginx': 4,\n",
              " 'python|python-2.7|python-3.x|pandas': 4,\n",
              " 'python|itertools': 4,\n",
              " 'python|packages': 4,\n",
              " 'python|function|arguments': 4,\n",
              " 'python|pandas|merge': 4,\n",
              " 'python|python-2.7|tkinter': 4,\n",
              " 'python|xml|minidom': 4,\n",
              " 'python|inspect': 4,\n",
              " 'python|input|integer|boolean': 4,\n",
              " 'python|python-2.7|opencv': 4,\n",
              " 'python|video': 4,\n",
              " 'python|arrays|for-loop': 4,\n",
              " 'python|configparser': 4,\n",
              " 'python|pylint': 4,\n",
              " 'python|windows|ssl|pip': 4,\n",
              " 'python|r|rpy2': 4,\n",
              " 'python|iterator': 4,\n",
              " 'python|plot': 4,\n",
              " 'python|web2py': 4,\n",
              " 'python|django|django-models|django-views': 4,\n",
              " 'python|python-3.x|pyqt|pyqt5': 4,\n",
              " 'python|string|loops': 4,\n",
              " 'python|probability': 4,\n",
              " 'python|matplotlib|pandas': 4,\n",
              " 'python|ipython|ipython-notebook': 4,\n",
              " 'python|apache|cgi': 4,\n",
              " 'python|debugging': 4,\n",
              " 'python|inheritance': 4,\n",
              " 'python|timezone': 4,\n",
              " 'python|list|set': 4,\n",
              " 'python|pandas|pivot-table': 4,\n",
              " 'python|pandas|dataframe|series': 4,\n",
              " 'python|for-loop|nested-loops': 4,\n",
              " 'python|primes|series': 4,\n",
              " 'python|html|web-scraping|beautifulsoup': 4,\n",
              " 'python|python-2.6': 4,\n",
              " 'python|python-2.7|python-2.x': 4,\n",
              " 'python|dictionary|set': 4,\n",
              " 'python|xpath|scrapy': 4,\n",
              " 'python|odoo': 4,\n",
              " 'python|numpy|multidimensional-array': 4,\n",
              " 'python|ide': 4,\n",
              " 'python|oop|inheritance': 3,\n",
              " 'python|css|django': 3,\n",
              " 'python|mysql|csv': 3,\n",
              " 'python|python-requests|python-import': 3,\n",
              " 'python|python-3.x|pandas|numpy': 3,\n",
              " 'python|constructor': 3,\n",
              " 'python|time|pygame': 3,\n",
              " 'python|python-asyncio': 3,\n",
              " 'python|ocr|tesseract': 3,\n",
              " 'python|list|iteration': 3,\n",
              " 'python|graph': 3,\n",
              " 'python|django|web-applications': 3,\n",
              " 'python|dictionary|tuples': 3,\n",
              " 'python|numpy|matplotlib|plot': 3,\n",
              " 'python|exception|logging|except': 3,\n",
              " 'python|python-2.7|list|count': 3,\n",
              " 'python|command-line-arguments': 3,\n",
              " 'python|parsing|beautifulsoup': 3,\n",
              " 'python|pyqt|pyqt5': 3,\n",
              " 'python|django|google-app-engine': 3,\n",
              " 'python|hex': 3,\n",
              " 'python|notepad++': 3,\n",
              " 'python|machine-learning|tensorflow|neural-network|keras': 3,\n",
              " 'python|python-3.x|list|if-statement': 3,\n",
              " 'python|list|numpy': 3,\n",
              " 'python|optimization|scipy': 3,\n",
              " 'python|pandas|datetime|dataframe': 3,\n",
              " 'python|arrays|string|list': 3,\n",
              " 'python|unicode|encoding|utf-8': 3,\n",
              " 'python|renpy': 3,\n",
              " 'python|python-2.7|python-imaging-library': 3,\n",
              " 'python|xml|csv': 3,\n",
              " 'python|python-3.x|argparse': 3,\n",
              " 'python|python-3.x|utf-8': 3,\n",
              " 'python|multiple-inheritance': 3,\n",
              " 'python-3.x|python-import': 3,\n",
              " 'python|sqlalchemy|pyramid': 3,\n",
              " 'python|pymysql': 3,\n",
              " 'python|unicode|encoding': 3,\n",
              " 'python|pyqt|qt-designer': 3,\n",
              " 'python|file|dictionary': 3,\n",
              " 'python|sql|django': 3,\n",
              " 'python-2.7|tensorflow': 3,\n",
              " 'python|canopy': 3,\n",
              " 'python|list|file': 3,\n",
              " 'python|importerror|python-import': 3,\n",
              " 'python|django|python-3.x|django-rest-framework': 3,\n",
              " 'python|tweepy': 3,\n",
              " 'python|html|bots': 3,\n",
              " 'python|excel|openpyxl': 3,\n",
              " 'python|wsgi': 3,\n",
              " 'python|index-error': 3,\n",
              " 'python-3.x|pygame': 3,\n",
              " 'python|ftplib': 3,\n",
              " 'python|django|gunicorn': 3,\n",
              " 'python|datetime|numpy|pandas': 3,\n",
              " 'python|goto': 3,\n",
              " 'python|pandas|multi-index': 3,\n",
              " 'python|python-2.5': 3,\n",
              " 'python|arrays|numpy|matrix': 3,\n",
              " 'python|mysql|sql|django|natural-sort': 3,\n",
              " 'python|http': 3,\n",
              " 'python|user-interface|button|tkinter': 3,\n",
              " 'python-3.x|selenium': 3,\n",
              " 'python|django|ide': 3,\n",
              " 'python|datetime|iso8601|datetime-parsing|rfc3339': 3,\n",
              " 'python|exception|exception-handling': 3,\n",
              " 'python|scipy|sparse-matrix': 3,\n",
              " 'python|web-scraping|scrapy|scrapy-spider': 3,\n",
              " 'python|python-unittest': 3,\n",
              " 'python|python-2.7|pyinstaller': 3,\n",
              " 'python|matlab|numpy': 3,\n",
              " 'python|python-3.x|jupyter-notebook': 3,\n",
              " 'python-2.7|kivy|kivy-language': 3,\n",
              " 'python|python-3.x|algorithm': 3,\n",
              " 'python|pep8': 3,\n",
              " 'python|html|beautifulsoup|html-parsing': 3,\n",
              " 'python|class|extend': 3,\n",
              " 'python|naming': 3,\n",
              " 'python|algorithm|list|sorting': 3,\n",
              " 'python|django|django-staticfiles': 3,\n",
              " 'python|datetime|python-3.x': 3,\n",
              " 'python|python-2.7|pandas|dataframe': 3,\n",
              " 'python|django|pip': 3,\n",
              " 'python|python-2.7|generator': 3,\n",
              " 'python-3.x|discord|discord.py': 3,\n",
              " 'python|ctypes': 3,\n",
              " 'python|xml|xpath': 3,\n",
              " 'python|google-drive-api': 3,\n",
              " 'python|csv|python-2.7': 3,\n",
              " 'python|memory': 3,\n",
              " 'python|flask|flask-security': 3,\n",
              " 'python|svn': 3,\n",
              " 'python|conditional': 3,\n",
              " 'python|html|regex': 3,\n",
              " 'python|python-3.x|loops': 3,\n",
              " 'python|jython': 3,\n",
              " 'python|mysql|sql': 3,\n",
              " 'python|pandas|dask': 3,\n",
              " 'python-3.x|kivy': 3,\n",
              " 'python|sockets|tcp': 3,\n",
              " 'python|list|pandas': 3,\n",
              " 'python|function|loops': 3,\n",
              " 'android|python|sl4a': 3,\n",
              " 'python|matplotlib|contour': 3,\n",
              " 'python|rabbitmq|celery': 3,\n",
              " 'python|itk': 3,\n",
              " 'python|django|ssl|https|heroku': 3,\n",
              " 'python|sorting|numpy': 3,\n",
              " 'python|json|urllib2': 3,\n",
              " 'python|string|tuples': 3,\n",
              " 'python|string|binary': 3,\n",
              " 'python|numpy|scipy|sparse-matrix': 3,\n",
              " 'python|regex|split': 3,\n",
              " 'python|opencv|numpy': 3,\n",
              " 'python|python-3.x|class': 3,\n",
              " 'python|numpy|numpy-broadcasting': 3,\n",
              " 'python|scripting': 3,\n",
              " 'python|scikit-learn|pca': 3,\n",
              " 'python|python-3.x|dictionary|indexing': 3,\n",
              " 'python|shell|interpreter': 3,\n",
              " 'python|opencv|computer-vision': 3,\n",
              " 'python|xml|openerp': 3,\n",
              " 'python|proxy': 3,\n",
              " 'python|scrapy|web-crawler': 3,\n",
              " 'python|django|django-migrations': 3,\n",
              " 'python|string|function': 3,\n",
              " 'python-3.x|pandas|dataframe': 3,\n",
              " 'python|macos|homebrew': 3,\n",
              " 'python|bash': 3,\n",
              " 'python|machine-learning|classification': 3,\n",
              " 'python|sorting|python-3.x': 3,\n",
              " 'python|class|inheritance': 3,\n",
              " 'python|mongodb|pymongo|pymongo-3.x': 3,\n",
              " 'django|python-2.7|django-models': 3,\n",
              " 'python|python-3.x|python-multithreading': 3,\n",
              " 'python|django|django-models|django-forms|django-views': 3,\n",
              " 'python|python-2.7|selenium|selenium-webdriver': 3,\n",
              " 'python|arrays|multidimensional-array': 3,\n",
              " 'python|eval': 3,\n",
              " 'javascript|python|html|flask': 3,\n",
              " 'python-3.x|while-loop': 3,\n",
              " 'python|nonetype': 3,\n",
              " 'python|arrays|numpy|nan': 3,\n",
              " 'python-3.4': 3,\n",
              " 'python|web-scraping|scrapy|web-crawler|scrapy-spider': 3,\n",
              " 'python|unit-testing|python-unittest': 3,\n",
              " 'python|cassandra': 3,\n",
              " 'python|django|django-models|django-forms|django-admin': 3,\n",
              " 'python|string|variables': 3,\n",
              " 'python|list|functional-programming|hashtable': 3,\n",
              " 'python|iterable-unpacking': 3,\n",
              " 'python|memcached': 3,\n",
              " 'python|macos|communicate': 3,\n",
              " 'python|zipfile': 3,\n",
              " 'python|pysnmp': 3,\n",
              " 'python|screen|resolution': 3,\n",
              " 'python|bash|awk': 3,\n",
              " 'python|nested-loops': 3,\n",
              " 'python|regex|csv': 3,\n",
              " 'python|python-decorators': 3,\n",
              " 'django|python-3.x|django-models|django-rest-framework': 3,\n",
              " 'python|list|sorting|dictionary': 3,\n",
              " 'python|file|directory|subdirectory|directory-tree': 3,\n",
              " 'python|boolean': 3,\n",
              " 'python|file|io': 3,\n",
              " 'python|django|rabbitmq|celery': 3,\n",
              " 'python|list|if-statement': 3,\n",
              " 'python|perl|statistics': 3,\n",
              " 'python|linux|bash|shell': 3,\n",
              " 'python|arrays|python-3.x|numpy': 3,\n",
              " 'python|python-idle': 3,\n",
              " 'python|python-2.7|list': 3,\n",
              " 'python|tensorflow|anaconda': 3,\n",
              " 'dronekit-python': 3,\n",
              " 'python|python-2.7|list|dictionary': 3,\n",
              " 'python|networking': 3,\n",
              " 'python|json|api': 3,\n",
              " 'python-2.7|kivy': 3,\n",
              " 'python-2.7|python-3.x': 3,\n",
              " 'python|django|import': 3,\n",
              " 'python|html|django|unicode|html-lists': 3,\n",
              " 'python|macos|anaconda': 3,\n",
              " 'python|file-io|generator': 3,\n",
              " 'python|openerp|odoo-9': 3,\n",
              " 'python|json|serialization': 3,\n",
              " 'python|bitwise-operators': 3,\n",
              " 'python|pandas|jupyter-notebook': 3,\n",
              " 'python|counter': 3,\n",
              " 'python|matplotlib|histogram': 3,\n",
              " 'python|jupyter-notebook|ipython': 3,\n",
              " 'python|matplotlib|spyder': 3,\n",
              " 'ironpython|spotfire': 3,\n",
              " 'python|financial': 3,\n",
              " 'python|macos|matplotlib': 3,\n",
              " 'python|user-interface': 3,\n",
              " 'python|imap': 3,\n",
              " 'python|amazon-s3|boto3': 3,\n",
              " 'ipython': 3,\n",
              " 'python|string|strip': 3,\n",
              " 'python|numpy|scipy|enthought|pandas': 3,\n",
              " 'python|list|pandas|dataframe': 3,\n",
              " 'python|graphql|graphene-python': 3,\n",
              " 'python|interpreter': 3,\n",
              " 'python|cluster-analysis': 3,\n",
              " 'python|regex|email-validation|email-address': 3,\n",
              " 'ipython-parallel': 3,\n",
              " 'python|python-3.x|error-handling': 3,\n",
              " 'python|string|parsing': 3,\n",
              " 'json|python-2.7': 3,\n",
              " 'python|bash|shell': 3,\n",
              " 'python|dictionary|append': 3,\n",
              " 'python|django|django-views|django-urls': 3,\n",
              " 'python-3.x|sorting': 3,\n",
              " 'python|function|return': 3,\n",
              " 'python|regex|escaping': 3,\n",
              " 'python|django|templates': 3,\n",
              " 'python|user-input': 3,\n",
              " 'python|machine-learning': 3,\n",
              " 'python|rounding': 3,\n",
              " 'python-3.x|data-science|strip': 3,\n",
              " 'python|pip|python-module|pypi': 3,\n",
              " 'python|windows|python-3.x': 3,\n",
              " 'python|list|dictionary|list-comprehension': 3,\n",
              " 'python|sql|flask|sqlalchemy|flask-sqlalchemy': 3,\n",
              " 'python|python-3.x|random': 3,\n",
              " 'jquery|python|ajax': 3,\n",
              " 'python|django|logging': 3,\n",
              " 'python|list|exception|error-handling|max': 3,\n",
              " 'python|file|file-exists': 3,\n",
              " 'python|fibonacci': 3,\n",
              " 'c++|python|c|regex|comments': 3,\n",
              " 'python|django|rest': 3,\n",
              " 'python|algorithm|list|data-structures|linked-list': 3,\n",
              " 'python|list|boolean': 3,\n",
              " 'python|machine-learning|random-forest': 3,\n",
              " 'python|django|authentication|login': 3,\n",
              " 'python|pycrypto': 3,\n",
              " 'python|theano': 3,\n",
              " 'django|python-3.x|django-rest-framework': 3,\n",
              " 'python|encryption': 3,\n",
              " 'python|python-3.x|pygame|sprite': 3,\n",
              " 'python|pyinstaller': 3,\n",
              " 'python|pandas|dataframe|merge': 3,\n",
              " 'python|python-2.7|random': 3,\n",
              " 'python|arrays|numpy|vectorization': 3,\n",
              " 'python|string|replace': 3,\n",
              " 'python|django|rest|django-rest-framework': 3,\n",
              " 'python|formatting|currency': 3,\n",
              " 'python|machine-learning|keras': 3,\n",
              " 'python|python-3.x|cx-freeze': 3,\n",
              " 'python|matplotlib|colorbar': 3,\n",
              " 'python|numpy|pip': 3,\n",
              " 'python|matrix': 3,\n",
              " 'python|sql|pandas': 3,\n",
              " 'python|list|count|boolean': 3,\n",
              " 'python|readline': 3,\n",
              " 'python|python-3.x|selenium|xpath|selenium-webdriver': 3,\n",
              " 'python|winapi': 3,\n",
              " 'python|excel|dictionary': 3,\n",
              " 'python|html|django|django-forms': 3,\n",
              " 'python|django|pagination': 3,\n",
              " 'python|string|formatting': 3,\n",
              " 'python|list|count': 3,\n",
              " 'python|machine-learning|tensorflow': 3,\n",
              " 'python|django|django-forms|django-templates': 3,\n",
              " 'python|python-3.x|python-requests': 3,\n",
              " 'python|python-3.x|selenium': 3,\n",
              " 'python|html|selenium': 3,\n",
              " 'python|list|dictionary|set': 3,\n",
              " 'python|functional-programming': 3,\n",
              " 'ironpython': 3,\n",
              " 'python|file|text': 3,\n",
              " 'python|error-handling|exception-handling': 3,\n",
              " 'python|nameerror': 3,\n",
              " 'python|google-app-engine|app-engine-ndb': 3,\n",
              " 'python|bottle': 3,\n",
              " 'python|python-3.x|tuples': 3,\n",
              " 'python|url': 3,\n",
              " 'python|zeromq': 3,\n",
              " 'python|math|rounding': 3,\n",
              " 'python|python-3.x|request': 3,\n",
              " 'python|asynchronous|twisted': 3,\n",
              " 'python|c': 3,\n",
              " 'python|matplotlib|matplotlib-basemap': 3,\n",
              " 'python|optimization|performance': 3,\n",
              " 'python|difflib': 3,\n",
              " 'python|python-3.x|virtualenv': 3,\n",
              " 'python|matplotlib|graph': 3,\n",
              " 'python|html|python-2.7': 3,\n",
              " 'python|pyramid': 3,\n",
              " 'python|package': 3,\n",
              " 'python|dictionary|nested': 3,\n",
              " 'python|selenium|selenium-webdriver|xpath|css-selectors': 3,\n",
              " 'python|linux|shell': 3,\n",
              " 'python|class|methods': 3,\n",
              " 'python|django|python-2.7': 3,\n",
              " 'python|datetime|timezone|utc|pytz': 3,\n",
              " 'python|datetime|date': 3,\n",
              " 'python|python-3.x|list-comprehension': 3,\n",
              " 'python|django|django-tables2': 3,\n",
              " 'python|python-2.7|web-scraping|beautifulsoup': 3,\n",
              " 'python|emacs': 3,\n",
              " 'python|sqlite|sqlalchemy': 3,\n",
              " 'python|tensorflow|keras|deep-learning': 3,\n",
              " 'python|list|input': 3,\n",
              " 'python|twitter|tweepy': 3,\n",
              " 'python|design-patterns|singleton': 3,\n",
              " 'python-3.x|bokeh': 3,\n",
              " 'python|amazon-s3|boto': 3,\n",
              " 'python|variable-assignment': 3,\n",
              " 'python|eclipse': 3,\n",
              " 'python|facebook|facebook-graph-api': 3,\n",
              " 'python|datetime|time': 3,\n",
              " 'python|arrays|python-2.7|numpy': 3,\n",
              " 'python|django|virtualenv': 3,\n",
              " 'python|multiprocessing|python-multiprocessing': 3,\n",
              " 'python|django|unit-testing': 3,\n",
              " 'python|python-3.x|python-3.6': 3,\n",
              " 'python|python-2.7|python-import': 3,\n",
              " 'python|scrapy|scrapy-spider': 3,\n",
              " 'python|facebook': 3,\n",
              " 'python|with-statement': 3,\n",
              " 'python|json|python-3.x|python-requests': 3,\n",
              " 'python|numpy|numpy-ndarray': 2,\n",
              " 'python|c|dll|distribution': 2,\n",
              " 'python|python-2.7|jar|subprocess|popen': 2,\n",
              " 'python|join|timeout|queue': 2,\n",
              " 'python|pandas|indexing': 2,\n",
              " 'python-3.x|argparse': 2,\n",
              " 'python|registry|enthought': 2,\n",
              " 'python|python-2.7|python-3.x|tkinter': 2,\n",
              " 'python|time-complexity': 2,\n",
              " 'python|psychopy': 2,\n",
              " 'python|arrays|matlab|numpy': 2,\n",
              " 'python|shutil': 2,\n",
              " 'python|ipython|jupyter': 2,\n",
              " 'python|regex|unicode': 2,\n",
              " 'python|opencv|raspberry-pi': 2,\n",
              " 'python|function|collections|import|nameerror': 2,\n",
              " 'python|version|windows-server': 2,\n",
              " 'python|excel|excel-vba|win32com|vba': 2,\n",
              " 'python|yield': 2,\n",
              " 'windows|python-3.x': 2,\n",
              " 'python|ruby|virtualenv': 2,\n",
              " 'python|setup.py': 2,\n",
              " 'python|unicode|beautifulsoup': 2,\n",
              " 'python|python-3.x|pip': 2,\n",
              " 'python|tensorflow|tensorflow-datasets': 2,\n",
              " 'python|qt|pyqt5': 2,\n",
              " 'python|function|oop|methods|string-length': 2,\n",
              " 'python|process': 2,\n",
              " 'python|vim|autocomplete': 2,\n",
              " 'mysql|django|python-3.x': 2,\n",
              " 'python-3.x|numbers': 2,\n",
              " 'python|pandas|rpy2': 2,\n",
              " 'python|encoding|utf-8': 2,\n",
              " 'python|django|dry|django-class-based-views': 2,\n",
              " 'python|perl|bash|csv|openoffice-calc': 2,\n",
              " 'python|data-structures|binary-tree|inorder': 2,\n",
              " 'python|tornado': 2,\n",
              " 'python|types|unsigned|signed|16-bit': 2,\n",
              " 'python|numpy|tensorflow|deep-learning': 2,\n",
              " 'python|singleton': 2,\n",
              " 'python|arrays|list|sorting': 2,\n",
              " 'python|django|login': 2,\n",
              " 'python|class|for-loop': 2,\n",
              " 'python|properties|class-method': 2,\n",
              " 'python|html|security|xss|markup': 2,\n",
              " 'python|design-patterns|dependency-injection|inversion-of-control|architecture': 2,\n",
              " 'python|opencv|anaconda': 2,\n",
              " 'python|ssl|python-requests': 2,\n",
              " 'python|arrays|numpy|indexing': 2,\n",
              " 'python|telegram|telegram-bot|python-telegram-bot': 2,\n",
              " 'python-3.x|cluster-analysis': 2,\n",
              " 'python|selenium|python-3.x|selenium-webdriver|browser': 2,\n",
              " 'python|tensorflow|deep-learning|keras': 2,\n",
              " 'python|join|pandas': 2,\n",
              " 'python|curl': 2,\n",
              " 'python|string|list-comprehension': 2,\n",
              " 'python|for-loop|if-statement|primes': 2,\n",
              " 'python|macos|installation|pip|osx-mavericks': 2,\n",
              " 'python|macos|unicode|pyobjc': 2,\n",
              " 'python|list|text': 2,\n",
              " 'python|python-3.x|typeerror': 2,\n",
              " 'python|cluster-analysis|k-means': 2,\n",
              " 'python|google-adwords': 2,\n",
              " 'python|if-statement|conditional': 2,\n",
              " 'python|discord.py': 2,\n",
              " 'python|algorithm|tree|tree-traversal|non-recursive': 2,\n",
              " 'python|regex|match': 2,\n",
              " 'python|django|database|postgresql|sqlite': 2,\n",
              " 'python|python-2.7|python-3.x|pip': 2,\n",
              " 'python|python-3.x|discord|discord.py': 2,\n",
              " 'python|selenium|selenium-webdriver|sendkeys': 2,\n",
              " 'python|pyvmomi': 2,\n",
              " 'python|loops|for-loop|while-loop': 2,\n",
              " 'python|sockets|tkinter': 2,\n",
              " 'python|linux|ubuntu': 2,\n",
              " 'python|tkinter|messagebox': 2,\n",
              " 'python|pdf|ocr|google-cloud-vision': 2,\n",
              " 'python|neural-network': 2,\n",
              " 'python|flask|celery': 2,\n",
              " 'python|python-3.x|sqlalchemy': 2,\n",
              " 'python|ssh': 2,\n",
              " 'python|matplotlib|scipy': 2,\n",
              " 'python-2.7|date|datetime|pytz': 2,\n",
              " 'python|pandas|data-analysis': 2,\n",
              " 'python|python-3.x|dictionary|tuples': 2,\n",
              " 'python|nlp|nltk|corpus': 2,\n",
              " 'python|python-3.x|list|loops': 2,\n",
              " 'python|amazon-web-services|amazon-ec2': 2,\n",
              " 'python|string|variables|replace': 2,\n",
              " 'python|shell|logging|error-handling|subprocess': 2,\n",
              " 'python|string|binary|hex|string-formatting': 2,\n",
              " 'python|django|django-taggit': 2,\n",
              " 'python|aptana': 2,\n",
              " 'python|file|caching': 2,\n",
              " 'python|django|django-south': 2,\n",
              " 'python|string|list|tuples': 2,\n",
              " 'python|scrapy-spider': 2,\n",
              " 'python|algorithm|math': 2,\n",
              " 'python|list|replace': 2,\n",
              " 'python|selenium|firefox|pycharm': 2,\n",
              " 'python|matrix-multiplication': 2,\n",
              " 'python|google-colaboratory': 2,\n",
              " 'python|mongodb|tweepy': 2,\n",
              " 'python|python-3.x|scripting': 2,\n",
              " 'python|matplotlib|geometry': 2,\n",
              " 'python|python-3.x|macos|tkinter': 2,\n",
              " 'python|matplotlib|scatter-plot': 2,\n",
              " 'python|web-scraping|web-crawler': 2,\n",
              " 'python|django|forms|django-forms|django-views': 2,\n",
              " 'python|mysql|sql|django': 2,\n",
              " 'python|arrays|numpy|concatenation': 2,\n",
              " 'javascript|python|flask': 2,\n",
              " 'python|string|list|python-3.x': 2,\n",
              " 'python|python-2.7|list-comprehension': 2,\n",
              " 'python|file|security|directory': 2,\n",
              " 'python|oop|python-3.x': 2,\n",
              " 'python|windows|directory': 2,\n",
              " 'python|python-2.7|keypress|detect': 2,\n",
              " 'python|csv|sqlalchemy|python-elixir': 2,\n",
              " 'python|function|dictionary': 2,\n",
              " 'python|python-3.x|scrapy': 2,\n",
              " 'python|database|postgresql|psycopg2': 2,\n",
              " 'python|numpy|machine-learning': 2,\n",
              " 'python|blender': 2,\n",
              " 'python|string|parsing|find': 2,\n",
              " 'python|django|apache|django-urls': 2,\n",
              " 'python|algorithm|geometry': 2,\n",
              " 'python|arrays|numpy|coordinates': 2,\n",
              " 'python|opencv|image-processing|scikit-image': 2,\n",
              " 'python|mocking': 2,\n",
              " 'python|dictionary|hashmap': 2,\n",
              " 'python|scikit-learn|cluster-analysis|data-mining|dbscan': 2,\n",
              " 'python|python-idle|runpy': 2,\n",
              " 'python|python-3.x|set-comprehension': 2,\n",
              " 'python|unit-testing|code-coverage|nose|coverage.py': 2,\n",
              " 'python|django|forms|models': 2,\n",
              " 'python|django|validation': 2,\n",
              " 'python|xml|screen-scraping': 2,\n",
              " 'python|pygame|collision': 2,\n",
              " 'python-pptx': 2,\n",
              " 'python-2.7|bioinformatics|biopython': 2,\n",
              " 'python|matplotlib|pyqt5': 2,\n",
              " 'python|class|methods|instance': 2,\n",
              " 'python|pandas|yahoo-finance|pandas-datareader': 2,\n",
              " 'javascript|python|http-post|screen-scraping': 2,\n",
              " 'python-3.x|machine-learning|keras': 2,\n",
              " 'python|django|django-queryset|django-orm': 2,\n",
              " 'python|urllib2|urllib': 2,\n",
              " 'python|yahoo|finance': 2,\n",
              " 'python|time|infinite-loop': 2,\n",
              " 'python|amazon-web-services|amazon-s3|boto3': 2,\n",
              " 'python|list|dictionary|nested-lists': 2,\n",
              " 'python|sql-server|pyodbc': 2,\n",
              " 'python|django|wagtail': 2,\n",
              " 'python|django|django-debug-toolbar': 2,\n",
              " 'python|python-3.x|exception-handling': 2,\n",
              " 'python|python-3.x|itertools': 2,\n",
              " 'python|xlwt': 2,\n",
              " 'python|image|vbscript|batch-file|console-application': 2,\n",
              " 'python|django|scrapy': 2,\n",
              " 'python|shell|command-line': 2,\n",
              " 'python|html|css|django': 2,\n",
              " 'python|interface|abstract-class': 2,\n",
              " 'python|redirect|stdout|stderr': 2,\n",
              " 'python|user-interface|wxpython|wxwidgets': 2,\n",
              " 'python|regex|python-3.x|string|escaping': 2,\n",
              " 'python|wrapper|decorator': 2,\n",
              " ...}"
            ]
          },
          "metadata": {},
          "execution_count": 26
        }
      ]
    },
    {
      "cell_type": "code",
      "metadata": {
        "colab": {
          "base_uri": "https://localhost:8080/"
        },
        "id": "TlW9ZMUxoZUE",
        "outputId": "a674d2fd-ce99-41eb-88ce-375fca0c8f64"
      },
      "source": [
        "from haystack.utils import print_answers\n",
        "from pprint import pprint\n",
        "\n",
        "Q = input(\"Enter query : \")\n",
        "K = 3\n",
        "prediction = pipe.run(query=Q, params={\"Retriever\": {\"top_k\": K}})\n",
        "\n",
        "#res = print_answers(prediction, details=\"high\")\n",
        "\n",
        "\n",
        "print(\"Query :\",Q)\n",
        "print(\"=\"*50)\n",
        "\n",
        "for results in range(K):\n",
        "\n",
        "  result = prediction[\"answers\"][results].to_dict()\n",
        "\n",
        "  result = {\"Query\":Q,\n",
        "            \"Answer\":result[\"meta\"][\"answers\"],\n",
        "            \"Score\":result[\"score\"],\n",
        "            \"Tags\":result[\"meta\"][\"tags\"]}\n",
        "  pprint(result)\n",
        "\n",
        "  print(\"-\"*50)"
      ],
      "execution_count": null,
      "outputs": [
        {
          "name": "stdout",
          "output_type": "stream",
          "text": [
            "Enter query : How to create virtual env in linux ?\n"
          ]
        },
        {
          "output_type": "stream",
          "name": "stderr",
          "text": [
            "Inferencing Samples: 100%|██████████| 1/1 [00:00<00:00, 30.84 Batches/s]"
          ]
        },
        {
          "output_type": "stream",
          "name": "stdout",
          "text": [
            "Query : How to create virtual env in linux ?\n",
            "==================================================\n",
            "{'Answer': 'virtualenv and virtualenvwrapper give you access to a function '\n",
            "           'called deactivate to stop using the virtual environment. $ '\n",
            "           \"deactivate It's different with Anaconda environment, You will \"\n",
            "           'deactivate it with two-word command: $ source deactivate',\n",
            " 'Query': 'How to create virtual env in linux ?',\n",
            " 'Score': 0.5693701878908501,\n",
            " 'Tags': 'python|virtualenv'}\n",
            "--------------------------------------------------\n",
            "{'Answer': 'From my understanding you want to create python3 environments. '\n",
            "           'First install virtualenv using pip. pip install virtualenv Then '\n",
            "           'you can create a python3 environment like this: virtualenv -p '\n",
            "           'python3 env_name',\n",
            " 'Query': 'How to create virtual env in linux ?',\n",
            " 'Score': 0.5688902904146985,\n",
            " 'Tags': 'python|python-3.x|macos|virtualenv'}\n",
            "--------------------------------------------------\n",
            "{'Answer': 'You reinstalled everything but you did not recreate virtual '\n",
            "           'environvment. So obvious answer is: recreate virtual environment. '\n",
            "           'My recomendation: use pipenv: pip install pipenv mkdir '\n",
            "           'django_project && cd django_project pipenv install django pipenv '\n",
            "           \"shell Commit created Pipfile into VCS, don't loose your \"\n",
            "           'env-definition in future.',\n",
            " 'Query': 'How to create virtual env in linux ?',\n",
            " 'Score': 0.5658645115718143,\n",
            " 'Tags': 'python|ubuntu'}\n",
            "--------------------------------------------------\n"
          ]
        },
        {
          "output_type": "stream",
          "name": "stderr",
          "text": [
            "\n"
          ]
        }
      ]
    }
  ]
}
